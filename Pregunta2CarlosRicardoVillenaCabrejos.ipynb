{
 "cells": [
  {
   "cell_type": "markdown",
   "id": "6b9d2373",
   "metadata": {},
   "source": [
    "## Carlos Ricardo Villena Cabrejos 19200108"
   ]
  },
  {
   "cell_type": "code",
   "execution_count": 263,
   "id": "9e75f26a",
   "metadata": {},
   "outputs": [],
   "source": [
    "import pandas as pd\n",
    "import numpy as np\n",
    "import matplotlib.pyplot as plt\n",
    "import seaborn as sns"
   ]
  },
  {
   "cell_type": "code",
   "execution_count": 283,
   "id": "d5caf9cf",
   "metadata": {},
   "outputs": [],
   "source": [
    "columnas=['Temperatura','Nauseas','Dolor lumbar','Empuje de Orina',\n",
    "            'Dolores de Miccion','Ardor de Uretra','Inflamacion','Nefritis']"
   ]
  },
  {
   "cell_type": "code",
   "execution_count": 284,
   "id": "324780e6",
   "metadata": {},
   "outputs": [],
   "source": [
    "df = pd.read_csv('diagnosis.txt',names=columnas,delimiter=\"\\t\")"
   ]
  },
  {
   "cell_type": "code",
   "execution_count": 285,
   "id": "e612fb8c",
   "metadata": {},
   "outputs": [
    {
     "data": {
      "text/html": [
       "<div>\n",
       "<style scoped>\n",
       "    .dataframe tbody tr th:only-of-type {\n",
       "        vertical-align: middle;\n",
       "    }\n",
       "\n",
       "    .dataframe tbody tr th {\n",
       "        vertical-align: top;\n",
       "    }\n",
       "\n",
       "    .dataframe thead th {\n",
       "        text-align: right;\n",
       "    }\n",
       "</style>\n",
       "<table border=\"1\" class=\"dataframe\">\n",
       "  <thead>\n",
       "    <tr style=\"text-align: right;\">\n",
       "      <th></th>\n",
       "      <th>Temperatura</th>\n",
       "      <th>Nauseas</th>\n",
       "      <th>Dolor lumbar</th>\n",
       "      <th>Empuje de Orina</th>\n",
       "      <th>Dolores de Miccion</th>\n",
       "      <th>Ardor de Uretra</th>\n",
       "      <th>Inflamacion</th>\n",
       "      <th>Nefritis</th>\n",
       "    </tr>\n",
       "  </thead>\n",
       "  <tbody>\n",
       "    <tr>\n",
       "      <th>0</th>\n",
       "      <td>35.5</td>\n",
       "      <td>no</td>\n",
       "      <td>yes</td>\n",
       "      <td>no</td>\n",
       "      <td>no</td>\n",
       "      <td>no</td>\n",
       "      <td>no</td>\n",
       "      <td>no</td>\n",
       "    </tr>\n",
       "    <tr>\n",
       "      <th>1</th>\n",
       "      <td>35.9</td>\n",
       "      <td>no</td>\n",
       "      <td>no</td>\n",
       "      <td>yes</td>\n",
       "      <td>yes</td>\n",
       "      <td>yes</td>\n",
       "      <td>yes</td>\n",
       "      <td>no</td>\n",
       "    </tr>\n",
       "    <tr>\n",
       "      <th>2</th>\n",
       "      <td>35.9</td>\n",
       "      <td>no</td>\n",
       "      <td>yes</td>\n",
       "      <td>no</td>\n",
       "      <td>no</td>\n",
       "      <td>no</td>\n",
       "      <td>no</td>\n",
       "      <td>no</td>\n",
       "    </tr>\n",
       "    <tr>\n",
       "      <th>3</th>\n",
       "      <td>36.0</td>\n",
       "      <td>no</td>\n",
       "      <td>no</td>\n",
       "      <td>yes</td>\n",
       "      <td>yes</td>\n",
       "      <td>yes</td>\n",
       "      <td>yes</td>\n",
       "      <td>no</td>\n",
       "    </tr>\n",
       "    <tr>\n",
       "      <th>4</th>\n",
       "      <td>36.0</td>\n",
       "      <td>no</td>\n",
       "      <td>yes</td>\n",
       "      <td>no</td>\n",
       "      <td>no</td>\n",
       "      <td>no</td>\n",
       "      <td>no</td>\n",
       "      <td>no</td>\n",
       "    </tr>\n",
       "    <tr>\n",
       "      <th>...</th>\n",
       "      <td>...</td>\n",
       "      <td>...</td>\n",
       "      <td>...</td>\n",
       "      <td>...</td>\n",
       "      <td>...</td>\n",
       "      <td>...</td>\n",
       "      <td>...</td>\n",
       "      <td>...</td>\n",
       "    </tr>\n",
       "    <tr>\n",
       "      <th>115</th>\n",
       "      <td>41.4</td>\n",
       "      <td>no</td>\n",
       "      <td>yes</td>\n",
       "      <td>yes</td>\n",
       "      <td>no</td>\n",
       "      <td>yes</td>\n",
       "      <td>no</td>\n",
       "      <td>yes</td>\n",
       "    </tr>\n",
       "    <tr>\n",
       "      <th>116</th>\n",
       "      <td>41.5</td>\n",
       "      <td>no</td>\n",
       "      <td>no</td>\n",
       "      <td>no</td>\n",
       "      <td>no</td>\n",
       "      <td>no</td>\n",
       "      <td>no</td>\n",
       "      <td>no</td>\n",
       "    </tr>\n",
       "    <tr>\n",
       "      <th>117</th>\n",
       "      <td>41.5</td>\n",
       "      <td>yes</td>\n",
       "      <td>yes</td>\n",
       "      <td>no</td>\n",
       "      <td>yes</td>\n",
       "      <td>no</td>\n",
       "      <td>no</td>\n",
       "      <td>yes</td>\n",
       "    </tr>\n",
       "    <tr>\n",
       "      <th>118</th>\n",
       "      <td>41.5</td>\n",
       "      <td>no</td>\n",
       "      <td>yes</td>\n",
       "      <td>yes</td>\n",
       "      <td>no</td>\n",
       "      <td>yes</td>\n",
       "      <td>no</td>\n",
       "      <td>yes</td>\n",
       "    </tr>\n",
       "    <tr>\n",
       "      <th>119</th>\n",
       "      <td>41.5</td>\n",
       "      <td>no</td>\n",
       "      <td>yes</td>\n",
       "      <td>yes</td>\n",
       "      <td>no</td>\n",
       "      <td>yes</td>\n",
       "      <td>no</td>\n",
       "      <td>yes</td>\n",
       "    </tr>\n",
       "  </tbody>\n",
       "</table>\n",
       "<p>120 rows × 8 columns</p>\n",
       "</div>"
      ],
      "text/plain": [
       "     Temperatura Nauseas Dolor lumbar Empuje de Orina Dolores de Miccion  \\\n",
       "0           35.5      no          yes              no                 no   \n",
       "1           35.9      no           no             yes                yes   \n",
       "2           35.9      no          yes              no                 no   \n",
       "3           36.0      no           no             yes                yes   \n",
       "4           36.0      no          yes              no                 no   \n",
       "..           ...     ...          ...             ...                ...   \n",
       "115         41.4      no          yes             yes                 no   \n",
       "116         41.5      no           no              no                 no   \n",
       "117         41.5     yes          yes              no                yes   \n",
       "118         41.5      no          yes             yes                 no   \n",
       "119         41.5      no          yes             yes                 no   \n",
       "\n",
       "    Ardor de Uretra Inflamacion Nefritis  \n",
       "0                no          no       no  \n",
       "1               yes         yes       no  \n",
       "2                no          no       no  \n",
       "3               yes         yes       no  \n",
       "4                no          no       no  \n",
       "..              ...         ...      ...  \n",
       "115             yes          no      yes  \n",
       "116              no          no       no  \n",
       "117              no          no      yes  \n",
       "118             yes          no      yes  \n",
       "119             yes          no      yes  \n",
       "\n",
       "[120 rows x 8 columns]"
      ]
     },
     "execution_count": 285,
     "metadata": {},
     "output_type": "execute_result"
    }
   ],
   "source": [
    "df"
   ]
  },
  {
   "cell_type": "code",
   "execution_count": 286,
   "id": "d6618c6a",
   "metadata": {},
   "outputs": [
    {
     "name": "stdout",
     "output_type": "stream",
     "text": [
      "<class 'pandas.core.frame.DataFrame'>\n",
      "RangeIndex: 120 entries, 0 to 119\n",
      "Data columns (total 8 columns):\n",
      " #   Column              Non-Null Count  Dtype  \n",
      "---  ------              --------------  -----  \n",
      " 0   Temperatura         120 non-null    float64\n",
      " 1   Nauseas             120 non-null    object \n",
      " 2   Dolor lumbar        120 non-null    object \n",
      " 3   Empuje de Orina     120 non-null    object \n",
      " 4   Dolores de Miccion  120 non-null    object \n",
      " 5   Ardor de Uretra     120 non-null    object \n",
      " 6   Inflamacion         120 non-null    object \n",
      " 7   Nefritis            120 non-null    object \n",
      "dtypes: float64(1), object(7)\n",
      "memory usage: 7.6+ KB\n"
     ]
    }
   ],
   "source": [
    "df.info()"
   ]
  },
  {
   "cell_type": "code",
   "execution_count": 287,
   "id": "e7f69073",
   "metadata": {},
   "outputs": [
    {
     "data": {
      "text/html": [
       "<div>\n",
       "<style scoped>\n",
       "    .dataframe tbody tr th:only-of-type {\n",
       "        vertical-align: middle;\n",
       "    }\n",
       "\n",
       "    .dataframe tbody tr th {\n",
       "        vertical-align: top;\n",
       "    }\n",
       "\n",
       "    .dataframe thead th {\n",
       "        text-align: right;\n",
       "    }\n",
       "</style>\n",
       "<table border=\"1\" class=\"dataframe\">\n",
       "  <thead>\n",
       "    <tr style=\"text-align: right;\">\n",
       "      <th></th>\n",
       "      <th>Temperatura</th>\n",
       "      <th>Nauseas</th>\n",
       "      <th>Dolor lumbar</th>\n",
       "      <th>Empuje de Orina</th>\n",
       "      <th>Dolores de Miccion</th>\n",
       "      <th>Ardor de Uretra</th>\n",
       "      <th>Inflamacion</th>\n",
       "      <th>Nefritis</th>\n",
       "    </tr>\n",
       "  </thead>\n",
       "  <tbody>\n",
       "    <tr>\n",
       "      <th>0</th>\n",
       "      <td>35.5</td>\n",
       "      <td>no</td>\n",
       "      <td>yes</td>\n",
       "      <td>no</td>\n",
       "      <td>no</td>\n",
       "      <td>no</td>\n",
       "      <td>no</td>\n",
       "      <td>no</td>\n",
       "    </tr>\n",
       "    <tr>\n",
       "      <th>1</th>\n",
       "      <td>35.9</td>\n",
       "      <td>no</td>\n",
       "      <td>no</td>\n",
       "      <td>yes</td>\n",
       "      <td>yes</td>\n",
       "      <td>yes</td>\n",
       "      <td>yes</td>\n",
       "      <td>no</td>\n",
       "    </tr>\n",
       "    <tr>\n",
       "      <th>2</th>\n",
       "      <td>35.9</td>\n",
       "      <td>no</td>\n",
       "      <td>yes</td>\n",
       "      <td>no</td>\n",
       "      <td>no</td>\n",
       "      <td>no</td>\n",
       "      <td>no</td>\n",
       "      <td>no</td>\n",
       "    </tr>\n",
       "    <tr>\n",
       "      <th>3</th>\n",
       "      <td>36.0</td>\n",
       "      <td>no</td>\n",
       "      <td>no</td>\n",
       "      <td>yes</td>\n",
       "      <td>yes</td>\n",
       "      <td>yes</td>\n",
       "      <td>yes</td>\n",
       "      <td>no</td>\n",
       "    </tr>\n",
       "    <tr>\n",
       "      <th>4</th>\n",
       "      <td>36.0</td>\n",
       "      <td>no</td>\n",
       "      <td>yes</td>\n",
       "      <td>no</td>\n",
       "      <td>no</td>\n",
       "      <td>no</td>\n",
       "      <td>no</td>\n",
       "      <td>no</td>\n",
       "    </tr>\n",
       "  </tbody>\n",
       "</table>\n",
       "</div>"
      ],
      "text/plain": [
       "   Temperatura Nauseas Dolor lumbar Empuje de Orina Dolores de Miccion  \\\n",
       "0         35.5      no          yes              no                 no   \n",
       "1         35.9      no           no             yes                yes   \n",
       "2         35.9      no          yes              no                 no   \n",
       "3         36.0      no           no             yes                yes   \n",
       "4         36.0      no          yes              no                 no   \n",
       "\n",
       "  Ardor de Uretra Inflamacion Nefritis  \n",
       "0              no          no       no  \n",
       "1             yes         yes       no  \n",
       "2              no          no       no  \n",
       "3             yes         yes       no  \n",
       "4              no          no       no  "
      ]
     },
     "execution_count": 287,
     "metadata": {},
     "output_type": "execute_result"
    }
   ],
   "source": [
    "df.head()"
   ]
  },
  {
   "cell_type": "code",
   "execution_count": 288,
   "id": "480fab3f",
   "metadata": {},
   "outputs": [
    {
     "data": {
      "text/html": [
       "<div>\n",
       "<style scoped>\n",
       "    .dataframe tbody tr th:only-of-type {\n",
       "        vertical-align: middle;\n",
       "    }\n",
       "\n",
       "    .dataframe tbody tr th {\n",
       "        vertical-align: top;\n",
       "    }\n",
       "\n",
       "    .dataframe thead th {\n",
       "        text-align: right;\n",
       "    }\n",
       "</style>\n",
       "<table border=\"1\" class=\"dataframe\">\n",
       "  <thead>\n",
       "    <tr style=\"text-align: right;\">\n",
       "      <th></th>\n",
       "      <th>Temperatura</th>\n",
       "    </tr>\n",
       "  </thead>\n",
       "  <tbody>\n",
       "    <tr>\n",
       "      <th>count</th>\n",
       "      <td>120.000000</td>\n",
       "    </tr>\n",
       "    <tr>\n",
       "      <th>mean</th>\n",
       "      <td>38.724167</td>\n",
       "    </tr>\n",
       "    <tr>\n",
       "      <th>std</th>\n",
       "      <td>1.819132</td>\n",
       "    </tr>\n",
       "    <tr>\n",
       "      <th>min</th>\n",
       "      <td>35.500000</td>\n",
       "    </tr>\n",
       "    <tr>\n",
       "      <th>25%</th>\n",
       "      <td>37.100000</td>\n",
       "    </tr>\n",
       "    <tr>\n",
       "      <th>50%</th>\n",
       "      <td>37.950000</td>\n",
       "    </tr>\n",
       "    <tr>\n",
       "      <th>75%</th>\n",
       "      <td>40.600000</td>\n",
       "    </tr>\n",
       "    <tr>\n",
       "      <th>max</th>\n",
       "      <td>41.500000</td>\n",
       "    </tr>\n",
       "  </tbody>\n",
       "</table>\n",
       "</div>"
      ],
      "text/plain": [
       "       Temperatura\n",
       "count   120.000000\n",
       "mean     38.724167\n",
       "std       1.819132\n",
       "min      35.500000\n",
       "25%      37.100000\n",
       "50%      37.950000\n",
       "75%      40.600000\n",
       "max      41.500000"
      ]
     },
     "execution_count": 288,
     "metadata": {},
     "output_type": "execute_result"
    }
   ],
   "source": [
    "df.describe()"
   ]
  },
  {
   "cell_type": "markdown",
   "id": "b6189d3c",
   "metadata": {},
   "source": [
    "### ANALISIS EXPLORATORIO DE DATOS"
   ]
  },
  {
   "cell_type": "code",
   "execution_count": 289,
   "id": "a7a9acc1",
   "metadata": {},
   "outputs": [
    {
     "data": {
      "text/plain": [
       "<seaborn.axisgrid.FacetGrid at 0x2145609d280>"
      ]
     },
     "execution_count": 289,
     "metadata": {},
     "output_type": "execute_result"
    },
    {
     "data": {
      "image/png": "[encoded data removed]",
      "text/plain": [
       "<Figure size 720x720 with 1 Axes>"
      ]
     },
     "metadata": {
      "needs_background": "light"
     },
     "output_type": "display_data"
    }
   ],
   "source": [
    "sns.displot(df['Temperatura'],bins=10, height=10)"
   ]
  },
  {
   "cell_type": "code",
   "execution_count": 290,
   "id": "e0b17ae5",
   "metadata": {},
   "outputs": [
    {
     "data": {
      "text/plain": [
       "Nauseas\n",
       "no     91\n",
       "yes    29\n",
       "Name: Nauseas, dtype: int64"
      ]
     },
     "execution_count": 290,
     "metadata": {},
     "output_type": "execute_result"
    }
   ],
   "source": [
    "df.groupby('Nauseas')['Nauseas'].count()"
   ]
  },
  {
   "cell_type": "code",
   "execution_count": 291,
   "id": "06a837db",
   "metadata": {},
   "outputs": [
    {
     "data": {
      "text/plain": [
       "<AxesSubplot:xlabel='Nauseas', ylabel='count'>"
      ]
     },
     "execution_count": 291,
     "metadata": {},
     "output_type": "execute_result"
    },
    {
     "data": {
      "image/png": "[encoded data removed]",
      "text/plain": [
       "<Figure size 432x288 with 1 Axes>"
      ]
     },
     "metadata": {
      "needs_background": "light"
     },
     "output_type": "display_data"
    }
   ],
   "source": [
    "sns.countplot(x='Nauseas',data=df)"
   ]
  },
  {
   "cell_type": "code",
   "execution_count": 292,
   "id": "b6c704c3",
   "metadata": {},
   "outputs": [
    {
     "data": {
      "text/plain": [
       "Dolor lumbar\n",
       "no     50\n",
       "yes    70\n",
       "Name: Dolor lumbar, dtype: int64"
      ]
     },
     "execution_count": 292,
     "metadata": {},
     "output_type": "execute_result"
    }
   ],
   "source": [
    "df.groupby('Dolor lumbar')['Dolor lumbar'].count()"
   ]
  },
  {
   "cell_type": "code",
   "execution_count": 293,
   "id": "8ae3e556",
   "metadata": {},
   "outputs": [
    {
     "data": {
      "text/plain": [
       "<AxesSubplot:xlabel='Dolor lumbar', ylabel='count'>"
      ]
     },
     "execution_count": 293,
     "metadata": {},
     "output_type": "execute_result"
    },
    {
     "data": {
      "image/png": "[encoded data removed]",
      "text/plain": [
       "<Figure size 432x288 with 1 Axes>"
      ]
     },
     "metadata": {
      "needs_background": "light"
     },
     "output_type": "display_data"
    }
   ],
   "source": [
    "sns.countplot(x='Dolor lumbar',data=df)"
   ]
  },
  {
   "cell_type": "code",
   "execution_count": 294,
   "id": "1a3c6fd7",
   "metadata": {},
   "outputs": [
    {
     "data": {
      "text/plain": [
       "Empuje de Orina\n",
       "no     40\n",
       "yes    80\n",
       "Name: Empuje de Orina, dtype: int64"
      ]
     },
     "execution_count": 294,
     "metadata": {},
     "output_type": "execute_result"
    }
   ],
   "source": [
    "df.groupby('Empuje de Orina')['Empuje de Orina'].count()"
   ]
  },
  {
   "cell_type": "code",
   "execution_count": 295,
   "id": "a44b6205",
   "metadata": {},
   "outputs": [
    {
     "data": {
      "text/plain": [
       "<AxesSubplot:xlabel='Empuje de Orina', ylabel='count'>"
      ]
     },
     "execution_count": 295,
     "metadata": {},
     "output_type": "execute_result"
    },
    {
     "data": {
      "image/png": "[encoded data removed]",
      "text/plain": [
       "<Figure size 432x288 with 1 Axes>"
      ]
     },
     "metadata": {
      "needs_background": "light"
     },
     "output_type": "display_data"
    }
   ],
   "source": [
    "sns.countplot(x='Empuje de Orina',data=df)"
   ]
  },
  {
   "cell_type": "code",
   "execution_count": 296,
   "id": "fe48c7c1",
   "metadata": {},
   "outputs": [
    {
     "data": {
      "text/plain": [
       "Dolores de Miccion\n",
       "no     61\n",
       "yes    59\n",
       "Name: Dolores de Miccion, dtype: int64"
      ]
     },
     "execution_count": 296,
     "metadata": {},
     "output_type": "execute_result"
    }
   ],
   "source": [
    "df.groupby('Dolores de Miccion')['Dolores de Miccion'].count()"
   ]
  },
  {
   "cell_type": "code",
   "execution_count": 297,
   "id": "0a8e8698",
   "metadata": {},
   "outputs": [
    {
     "data": {
      "text/plain": [
       "<AxesSubplot:xlabel='Dolores de Miccion', ylabel='count'>"
      ]
     },
     "execution_count": 297,
     "metadata": {},
     "output_type": "execute_result"
    },
    {
     "data": {
      "image/png": "[encoded data removed]",
      "text/plain": [
       "<Figure size 432x288 with 1 Axes>"
      ]
     },
     "metadata": {
      "needs_background": "light"
     },
     "output_type": "display_data"
    }
   ],
   "source": [
    "sns.countplot(x='Dolores de Miccion',data=df)"
   ]
  },
  {
   "cell_type": "code",
   "execution_count": 298,
   "id": "50c3367d",
   "metadata": {},
   "outputs": [
    {
     "data": {
      "text/plain": [
       "Ardor de Uretra\n",
       "no     70\n",
       "yes    50\n",
       "Name: Ardor de Uretra, dtype: int64"
      ]
     },
     "execution_count": 298,
     "metadata": {},
     "output_type": "execute_result"
    }
   ],
   "source": [
    "df.groupby('Ardor de Uretra')['Ardor de Uretra'].count()"
   ]
  },
  {
   "cell_type": "code",
   "execution_count": 299,
   "id": "3d9433f6",
   "metadata": {},
   "outputs": [
    {
     "data": {
      "text/plain": [
       "<AxesSubplot:xlabel='Ardor de Uretra', ylabel='count'>"
      ]
     },
     "execution_count": 299,
     "metadata": {},
     "output_type": "execute_result"
    },
    {
     "data": {
      "image/png": "[encoded data removed]",
      "text/plain": [
       "<Figure size 432x288 with 1 Axes>"
      ]
     },
     "metadata": {
      "needs_background": "light"
     },
     "output_type": "display_data"
    }
   ],
   "source": [
    "sns.countplot(x='Ardor de Uretra',data=df)"
   ]
  },
  {
   "cell_type": "code",
   "execution_count": 300,
   "id": "567ae0fa",
   "metadata": {},
   "outputs": [
    {
     "data": {
      "text/plain": [
       "<AxesSubplot:xlabel='Dolores de Miccion', ylabel='count'>"
      ]
     },
     "execution_count": 300,
     "metadata": {},
     "output_type": "execute_result"
    },
    {
     "data": {
      "image/png": "[encoded data removed]",
      "text/plain": [
       "<Figure size 432x288 with 1 Axes>"
      ]
     },
     "metadata": {
      "needs_background": "light"
     },
     "output_type": "display_data"
    }
   ],
   "source": [
    "sns.countplot(data=df,x='Dolores de Miccion',hue='Empuje de Orina')"
   ]
  },
  {
   "cell_type": "markdown",
   "id": "3024b598",
   "metadata": {},
   "source": [
    "### Transformación de datos"
   ]
  },
  {
   "cell_type": "code",
   "execution_count": 301,
   "id": "7fddfc8a",
   "metadata": {},
   "outputs": [
    {
     "name": "stdout",
     "output_type": "stream",
     "text": [
      "<class 'pandas.core.frame.DataFrame'>\n",
      "RangeIndex: 120 entries, 0 to 119\n",
      "Data columns (total 8 columns):\n",
      " #   Column              Non-Null Count  Dtype  \n",
      "---  ------              --------------  -----  \n",
      " 0   Temperatura         120 non-null    float64\n",
      " 1   Nauseas             120 non-null    object \n",
      " 2   Dolor lumbar        120 non-null    object \n",
      " 3   Empuje de Orina     120 non-null    object \n",
      " 4   Dolores de Miccion  120 non-null    object \n",
      " 5   Ardor de Uretra     120 non-null    object \n",
      " 6   Inflamacion         120 non-null    object \n",
      " 7   Nefritis            120 non-null    object \n",
      "dtypes: float64(1), object(7)\n",
      "memory usage: 7.6+ KB\n"
     ]
    }
   ],
   "source": [
    "df.info()"
   ]
  },
  {
   "cell_type": "code",
   "execution_count": 316,
   "id": "857c15f9",
   "metadata": {},
   "outputs": [],
   "source": [
    "Nauseas = pd.get_dummies(df['Nauseas'],drop_first=True)\n",
    "Nauseas.set_axis(['Nauseas'], axis='columns', inplace=True)\n",
    "\n",
    "Dolor_lumbar = pd.get_dummies(df['Dolor lumbar'],drop_first=True)\n",
    "Dolor_lumbar.set_axis(['Dolor lumbar'], axis='columns', inplace=True)\n",
    "\n",
    "Empuje_de_Orina= pd.get_dummies(df['Empuje de Orina'],drop_first=True)\n",
    "Empuje_de_Orina.set_axis(['Empuje de Orina'], axis='columns', inplace=True)\n",
    "\n",
    "\n",
    "Dolores_de_Miccion= pd.get_dummies(df['Dolores de Miccion'],drop_first=True)\n",
    "Dolores_de_Miccion.set_axis(['Dolores de Miccion'], axis='columns', inplace=True)\n",
    "\n",
    "Ardor_de_Uretra= pd.get_dummies(df['Ardor de Uretra'],drop_first=True)\n",
    "Ardor_de_Uretra.set_axis(['Ardor de Uretra'], axis='columns', inplace=True)\n",
    "\n",
    "Inflacion= pd.get_dummies(df['Inflamacion'],drop_first=True)\n",
    "Inflacion.set_axis(['Inflamacion'], axis='columns', inplace=True)\n",
    "\n",
    "Nefritis= pd.get_dummies(df['Nefritis'],drop_first=True)\n",
    "Nefritis.set_axis(['Nefritis'], axis='columns', inplace=True)"
   ]
  },
  {
   "cell_type": "code",
   "execution_count": 317,
   "id": "fea423c3",
   "metadata": {},
   "outputs": [
    {
     "name": "stdout",
     "output_type": "stream",
     "text": [
      "     Nauseas\n",
      "0          0\n",
      "1          0\n",
      "2          0\n",
      "3          0\n",
      "4          0\n",
      "..       ...\n",
      "115        0\n",
      "116        0\n",
      "117        1\n",
      "118        0\n",
      "119        0\n",
      "\n",
      "[120 rows x 1 columns]      Dolor lumbar\n",
      "0               1\n",
      "1               0\n",
      "2               1\n",
      "3               0\n",
      "4               1\n",
      "..            ...\n",
      "115             1\n",
      "116             0\n",
      "117             1\n",
      "118             1\n",
      "119             1\n",
      "\n",
      "[120 rows x 1 columns]      Empuje de Orina\n",
      "0                  0\n",
      "1                  1\n",
      "2                  0\n",
      "3                  1\n",
      "4                  0\n",
      "..               ...\n",
      "115                1\n",
      "116                0\n",
      "117                0\n",
      "118                1\n",
      "119                1\n",
      "\n",
      "[120 rows x 1 columns]      Dolores de Miccion\n",
      "0                     0\n",
      "1                     1\n",
      "2                     0\n",
      "3                     1\n",
      "4                     0\n",
      "..                  ...\n",
      "115                   0\n",
      "116                   0\n",
      "117                   1\n",
      "118                   0\n",
      "119                   0\n",
      "\n",
      "[120 rows x 1 columns]      Ardor de Uretra\n",
      "0                  0\n",
      "1                  1\n",
      "2                  0\n",
      "3                  1\n",
      "4                  0\n",
      "..               ...\n",
      "115                1\n",
      "116                0\n",
      "117                0\n",
      "118                1\n",
      "119                1\n",
      "\n",
      "[120 rows x 1 columns]      Inflamacion\n",
      "0              0\n",
      "1              1\n",
      "2              0\n",
      "3              1\n",
      "4              0\n",
      "..           ...\n",
      "115            0\n",
      "116            0\n",
      "117            0\n",
      "118            0\n",
      "119            0\n",
      "\n",
      "[120 rows x 1 columns]      Nefritis\n",
      "0           0\n",
      "1           0\n",
      "2           0\n",
      "3           0\n",
      "4           0\n",
      "..        ...\n",
      "115         1\n",
      "116         0\n",
      "117         1\n",
      "118         1\n",
      "119         1\n",
      "\n",
      "[120 rows x 1 columns]\n"
     ]
    }
   ],
   "source": [
    "print(Nauseas, Dolor_lumbar, Empuje_de_Orina, Dolores_de_Miccion, Ardor_de_Uretra,Inflacion, Nefritis)"
   ]
  },
  {
   "cell_type": "markdown",
   "id": "7fe6c7f9",
   "metadata": {},
   "source": [
    "### Creamos un nuevo dataframe"
   ]
  },
  {
   "cell_type": "code",
   "execution_count": 318,
   "id": "b0ea2016",
   "metadata": {},
   "outputs": [],
   "source": [
    "datos=pd.concat([df['Temperatura'],Nauseas,Dolor_lumbar,Empuje_de_Orina,Dolores_de_Miccion,Ardor_de_Uretra,Inflacion,\n",
    "               Nefritis],axis=1)"
   ]
  },
  {
   "cell_type": "code",
   "execution_count": 319,
   "id": "46e0c08e",
   "metadata": {},
   "outputs": [
    {
     "data": {
      "text/html": [
       "<div>\n",
       "<style scoped>\n",
       "    .dataframe tbody tr th:only-of-type {\n",
       "        vertical-align: middle;\n",
       "    }\n",
       "\n",
       "    .dataframe tbody tr th {\n",
       "        vertical-align: top;\n",
       "    }\n",
       "\n",
       "    .dataframe thead th {\n",
       "        text-align: right;\n",
       "    }\n",
       "</style>\n",
       "<table border=\"1\" class=\"dataframe\">\n",
       "  <thead>\n",
       "    <tr style=\"text-align: right;\">\n",
       "      <th></th>\n",
       "      <th>Temperatura</th>\n",
       "      <th>Nauseas</th>\n",
       "      <th>Dolor lumbar</th>\n",
       "      <th>Empuje de Orina</th>\n",
       "      <th>Dolores de Miccion</th>\n",
       "      <th>Ardor de Uretra</th>\n",
       "      <th>Inflamacion</th>\n",
       "      <th>Nefritis</th>\n",
       "    </tr>\n",
       "  </thead>\n",
       "  <tbody>\n",
       "    <tr>\n",
       "      <th>0</th>\n",
       "      <td>35.5</td>\n",
       "      <td>0</td>\n",
       "      <td>1</td>\n",
       "      <td>0</td>\n",
       "      <td>0</td>\n",
       "      <td>0</td>\n",
       "      <td>0</td>\n",
       "      <td>0</td>\n",
       "    </tr>\n",
       "    <tr>\n",
       "      <th>1</th>\n",
       "      <td>35.9</td>\n",
       "      <td>0</td>\n",
       "      <td>0</td>\n",
       "      <td>1</td>\n",
       "      <td>1</td>\n",
       "      <td>1</td>\n",
       "      <td>1</td>\n",
       "      <td>0</td>\n",
       "    </tr>\n",
       "    <tr>\n",
       "      <th>2</th>\n",
       "      <td>35.9</td>\n",
       "      <td>0</td>\n",
       "      <td>1</td>\n",
       "      <td>0</td>\n",
       "      <td>0</td>\n",
       "      <td>0</td>\n",
       "      <td>0</td>\n",
       "      <td>0</td>\n",
       "    </tr>\n",
       "    <tr>\n",
       "      <th>3</th>\n",
       "      <td>36.0</td>\n",
       "      <td>0</td>\n",
       "      <td>0</td>\n",
       "      <td>1</td>\n",
       "      <td>1</td>\n",
       "      <td>1</td>\n",
       "      <td>1</td>\n",
       "      <td>0</td>\n",
       "    </tr>\n",
       "    <tr>\n",
       "      <th>4</th>\n",
       "      <td>36.0</td>\n",
       "      <td>0</td>\n",
       "      <td>1</td>\n",
       "      <td>0</td>\n",
       "      <td>0</td>\n",
       "      <td>0</td>\n",
       "      <td>0</td>\n",
       "      <td>0</td>\n",
       "    </tr>\n",
       "    <tr>\n",
       "      <th>...</th>\n",
       "      <td>...</td>\n",
       "      <td>...</td>\n",
       "      <td>...</td>\n",
       "      <td>...</td>\n",
       "      <td>...</td>\n",
       "      <td>...</td>\n",
       "      <td>...</td>\n",
       "      <td>...</td>\n",
       "    </tr>\n",
       "    <tr>\n",
       "      <th>115</th>\n",
       "      <td>41.4</td>\n",
       "      <td>0</td>\n",
       "      <td>1</td>\n",
       "      <td>1</td>\n",
       "      <td>0</td>\n",
       "      <td>1</td>\n",
       "      <td>0</td>\n",
       "      <td>1</td>\n",
       "    </tr>\n",
       "    <tr>\n",
       "      <th>116</th>\n",
       "      <td>41.5</td>\n",
       "      <td>0</td>\n",
       "      <td>0</td>\n",
       "      <td>0</td>\n",
       "      <td>0</td>\n",
       "      <td>0</td>\n",
       "      <td>0</td>\n",
       "      <td>0</td>\n",
       "    </tr>\n",
       "    <tr>\n",
       "      <th>117</th>\n",
       "      <td>41.5</td>\n",
       "      <td>1</td>\n",
       "      <td>1</td>\n",
       "      <td>0</td>\n",
       "      <td>1</td>\n",
       "      <td>0</td>\n",
       "      <td>0</td>\n",
       "      <td>1</td>\n",
       "    </tr>\n",
       "    <tr>\n",
       "      <th>118</th>\n",
       "      <td>41.5</td>\n",
       "      <td>0</td>\n",
       "      <td>1</td>\n",
       "      <td>1</td>\n",
       "      <td>0</td>\n",
       "      <td>1</td>\n",
       "      <td>0</td>\n",
       "      <td>1</td>\n",
       "    </tr>\n",
       "    <tr>\n",
       "      <th>119</th>\n",
       "      <td>41.5</td>\n",
       "      <td>0</td>\n",
       "      <td>1</td>\n",
       "      <td>1</td>\n",
       "      <td>0</td>\n",
       "      <td>1</td>\n",
       "      <td>0</td>\n",
       "      <td>1</td>\n",
       "    </tr>\n",
       "  </tbody>\n",
       "</table>\n",
       "<p>120 rows × 8 columns</p>\n",
       "</div>"
      ],
      "text/plain": [
       "     Temperatura  Nauseas  Dolor lumbar  Empuje de Orina  Dolores de Miccion  \\\n",
       "0           35.5        0             1                0                   0   \n",
       "1           35.9        0             0                1                   1   \n",
       "2           35.9        0             1                0                   0   \n",
       "3           36.0        0             0                1                   1   \n",
       "4           36.0        0             1                0                   0   \n",
       "..           ...      ...           ...              ...                 ...   \n",
       "115         41.4        0             1                1                   0   \n",
       "116         41.5        0             0                0                   0   \n",
       "117         41.5        1             1                0                   1   \n",
       "118         41.5        0             1                1                   0   \n",
       "119         41.5        0             1                1                   0   \n",
       "\n",
       "     Ardor de Uretra  Inflamacion  Nefritis  \n",
       "0                  0            0         0  \n",
       "1                  1            1         0  \n",
       "2                  0            0         0  \n",
       "3                  1            1         0  \n",
       "4                  0            0         0  \n",
       "..               ...          ...       ...  \n",
       "115                1            0         1  \n",
       "116                0            0         0  \n",
       "117                0            0         1  \n",
       "118                1            0         1  \n",
       "119                1            0         1  \n",
       "\n",
       "[120 rows x 8 columns]"
      ]
     },
     "execution_count": 319,
     "metadata": {},
     "output_type": "execute_result"
    }
   ],
   "source": [
    "datos"
   ]
  },
  {
   "cell_type": "markdown",
   "id": "2d11b4ca",
   "metadata": {},
   "source": [
    "### Verificamos la transformacion de datos"
   ]
  },
  {
   "cell_type": "code",
   "execution_count": 320,
   "id": "ecf62b90",
   "metadata": {},
   "outputs": [
    {
     "name": "stdout",
     "output_type": "stream",
     "text": [
      "<class 'pandas.core.frame.DataFrame'>\n",
      "RangeIndex: 120 entries, 0 to 119\n",
      "Data columns (total 8 columns):\n",
      " #   Column              Non-Null Count  Dtype  \n",
      "---  ------              --------------  -----  \n",
      " 0   Temperatura         120 non-null    float64\n",
      " 1   Nauseas             120 non-null    uint8  \n",
      " 2   Dolor lumbar        120 non-null    uint8  \n",
      " 3   Empuje de Orina     120 non-null    uint8  \n",
      " 4   Dolores de Miccion  120 non-null    uint8  \n",
      " 5   Ardor de Uretra     120 non-null    uint8  \n",
      " 6   Inflamacion         120 non-null    uint8  \n",
      " 7   Nefritis            120 non-null    uint8  \n",
      "dtypes: float64(1), uint8(7)\n",
      "memory usage: 1.9 KB\n"
     ]
    }
   ],
   "source": [
    "datos.info()"
   ]
  },
  {
   "cell_type": "code",
   "execution_count": 321,
   "id": "76768697",
   "metadata": {},
   "outputs": [
    {
     "data": {
      "text/plain": [
       "<seaborn.axisgrid.PairGrid at 0x2145e4e1cd0>"
      ]
     },
     "execution_count": 321,
     "metadata": {},
     "output_type": "execute_result"
    },
    {
     "data": {
      "image/png": "[encoded data removed]",
      "text/plain": [
       "<Figure size 1440x1440 with 72 Axes>"
      ]
     },
     "metadata": {
      "needs_background": "light"
     },
     "output_type": "display_data"
    }
   ],
   "source": [
    "sns.pairplot(datos)"
   ]
  },
  {
   "cell_type": "markdown",
   "id": "0a6e8a6a",
   "metadata": {},
   "source": [
    "## Modelo de Regresión Logística para Y=Nefritis"
   ]
  },
  {
   "cell_type": "code",
   "execution_count": 73,
   "id": "9e6c0872",
   "metadata": {},
   "outputs": [],
   "source": []
  },
  {
   "cell_type": "code",
   "execution_count": 322,
   "id": "06ee274c",
   "metadata": {},
   "outputs": [],
   "source": [
    "x=datos.drop(['Nefritis','Inflamacion'],axis=1) # Division de  datos"
   ]
  },
  {
   "cell_type": "code",
   "execution_count": 323,
   "id": "7ca7c889",
   "metadata": {},
   "outputs": [
    {
     "data": {
      "text/html": [
       "<div>\n",
       "<style scoped>\n",
       "    .dataframe tbody tr th:only-of-type {\n",
       "        vertical-align: middle;\n",
       "    }\n",
       "\n",
       "    .dataframe tbody tr th {\n",
       "        vertical-align: top;\n",
       "    }\n",
       "\n",
       "    .dataframe thead th {\n",
       "        text-align: right;\n",
       "    }\n",
       "</style>\n",
       "<table border=\"1\" class=\"dataframe\">\n",
       "  <thead>\n",
       "    <tr style=\"text-align: right;\">\n",
       "      <th></th>\n",
       "      <th>Temperatura</th>\n",
       "      <th>Nauseas</th>\n",
       "      <th>Dolor lumbar</th>\n",
       "      <th>Empuje de Orina</th>\n",
       "      <th>Dolores de Miccion</th>\n",
       "      <th>Ardor de Uretra</th>\n",
       "    </tr>\n",
       "  </thead>\n",
       "  <tbody>\n",
       "    <tr>\n",
       "      <th>0</th>\n",
       "      <td>35.5</td>\n",
       "      <td>0</td>\n",
       "      <td>1</td>\n",
       "      <td>0</td>\n",
       "      <td>0</td>\n",
       "      <td>0</td>\n",
       "    </tr>\n",
       "    <tr>\n",
       "      <th>1</th>\n",
       "      <td>35.9</td>\n",
       "      <td>0</td>\n",
       "      <td>0</td>\n",
       "      <td>1</td>\n",
       "      <td>1</td>\n",
       "      <td>1</td>\n",
       "    </tr>\n",
       "    <tr>\n",
       "      <th>2</th>\n",
       "      <td>35.9</td>\n",
       "      <td>0</td>\n",
       "      <td>1</td>\n",
       "      <td>0</td>\n",
       "      <td>0</td>\n",
       "      <td>0</td>\n",
       "    </tr>\n",
       "    <tr>\n",
       "      <th>3</th>\n",
       "      <td>36.0</td>\n",
       "      <td>0</td>\n",
       "      <td>0</td>\n",
       "      <td>1</td>\n",
       "      <td>1</td>\n",
       "      <td>1</td>\n",
       "    </tr>\n",
       "    <tr>\n",
       "      <th>4</th>\n",
       "      <td>36.0</td>\n",
       "      <td>0</td>\n",
       "      <td>1</td>\n",
       "      <td>0</td>\n",
       "      <td>0</td>\n",
       "      <td>0</td>\n",
       "    </tr>\n",
       "    <tr>\n",
       "      <th>...</th>\n",
       "      <td>...</td>\n",
       "      <td>...</td>\n",
       "      <td>...</td>\n",
       "      <td>...</td>\n",
       "      <td>...</td>\n",
       "      <td>...</td>\n",
       "    </tr>\n",
       "    <tr>\n",
       "      <th>115</th>\n",
       "      <td>41.4</td>\n",
       "      <td>0</td>\n",
       "      <td>1</td>\n",
       "      <td>1</td>\n",
       "      <td>0</td>\n",
       "      <td>1</td>\n",
       "    </tr>\n",
       "    <tr>\n",
       "      <th>116</th>\n",
       "      <td>41.5</td>\n",
       "      <td>0</td>\n",
       "      <td>0</td>\n",
       "      <td>0</td>\n",
       "      <td>0</td>\n",
       "      <td>0</td>\n",
       "    </tr>\n",
       "    <tr>\n",
       "      <th>117</th>\n",
       "      <td>41.5</td>\n",
       "      <td>1</td>\n",
       "      <td>1</td>\n",
       "      <td>0</td>\n",
       "      <td>1</td>\n",
       "      <td>0</td>\n",
       "    </tr>\n",
       "    <tr>\n",
       "      <th>118</th>\n",
       "      <td>41.5</td>\n",
       "      <td>0</td>\n",
       "      <td>1</td>\n",
       "      <td>1</td>\n",
       "      <td>0</td>\n",
       "      <td>1</td>\n",
       "    </tr>\n",
       "    <tr>\n",
       "      <th>119</th>\n",
       "      <td>41.5</td>\n",
       "      <td>0</td>\n",
       "      <td>1</td>\n",
       "      <td>1</td>\n",
       "      <td>0</td>\n",
       "      <td>1</td>\n",
       "    </tr>\n",
       "  </tbody>\n",
       "</table>\n",
       "<p>120 rows × 6 columns</p>\n",
       "</div>"
      ],
      "text/plain": [
       "     Temperatura  Nauseas  Dolor lumbar  Empuje de Orina  Dolores de Miccion  \\\n",
       "0           35.5        0             1                0                   0   \n",
       "1           35.9        0             0                1                   1   \n",
       "2           35.9        0             1                0                   0   \n",
       "3           36.0        0             0                1                   1   \n",
       "4           36.0        0             1                0                   0   \n",
       "..           ...      ...           ...              ...                 ...   \n",
       "115         41.4        0             1                1                   0   \n",
       "116         41.5        0             0                0                   0   \n",
       "117         41.5        1             1                0                   1   \n",
       "118         41.5        0             1                1                   0   \n",
       "119         41.5        0             1                1                   0   \n",
       "\n",
       "     Ardor de Uretra  \n",
       "0                  0  \n",
       "1                  1  \n",
       "2                  0  \n",
       "3                  1  \n",
       "4                  0  \n",
       "..               ...  \n",
       "115                1  \n",
       "116                0  \n",
       "117                0  \n",
       "118                1  \n",
       "119                1  \n",
       "\n",
       "[120 rows x 6 columns]"
      ]
     },
     "execution_count": 323,
     "metadata": {},
     "output_type": "execute_result"
    }
   ],
   "source": [
    "x"
   ]
  },
  {
   "cell_type": "code",
   "execution_count": 324,
   "id": "0821804e",
   "metadata": {},
   "outputs": [],
   "source": [
    "y=datos['Nefritis']"
   ]
  },
  {
   "cell_type": "code",
   "execution_count": 325,
   "id": "9de5608f",
   "metadata": {},
   "outputs": [
    {
     "data": {
      "text/plain": [
       "0      0\n",
       "1      0\n",
       "2      0\n",
       "3      0\n",
       "4      0\n",
       "      ..\n",
       "115    1\n",
       "116    0\n",
       "117    1\n",
       "118    1\n",
       "119    1\n",
       "Name: Nefritis, Length: 120, dtype: uint8"
      ]
     },
     "execution_count": 325,
     "metadata": {},
     "output_type": "execute_result"
    }
   ],
   "source": [
    "y"
   ]
  },
  {
   "cell_type": "markdown",
   "id": "63d6b147",
   "metadata": {},
   "source": [
    "## Entrenamiento y prueba de datos"
   ]
  },
  {
   "cell_type": "code",
   "execution_count": 327,
   "id": "b817b6d6",
   "metadata": {},
   "outputs": [],
   "source": [
    "from sklearn.model_selection import train_test_split"
   ]
  },
  {
   "cell_type": "code",
   "execution_count": 328,
   "id": "43c5d8a4",
   "metadata": {},
   "outputs": [],
   "source": [
    "x_train, x_test, y_train, y_test = train_test_split(x, \n",
    "                                                    y, \n",
    "                                                    test_size=0.30, \n",
    "                                                    random_state=101)"
   ]
  },
  {
   "cell_type": "code",
   "execution_count": 329,
   "id": "05102299",
   "metadata": {},
   "outputs": [
    {
     "data": {
      "text/html": [
       "<div>\n",
       "<style scoped>\n",
       "    .dataframe tbody tr th:only-of-type {\n",
       "        vertical-align: middle;\n",
       "    }\n",
       "\n",
       "    .dataframe tbody tr th {\n",
       "        vertical-align: top;\n",
       "    }\n",
       "\n",
       "    .dataframe thead th {\n",
       "        text-align: right;\n",
       "    }\n",
       "</style>\n",
       "<table border=\"1\" class=\"dataframe\">\n",
       "  <thead>\n",
       "    <tr style=\"text-align: right;\">\n",
       "      <th></th>\n",
       "      <th>Temperatura</th>\n",
       "      <th>Nauseas</th>\n",
       "      <th>Dolor lumbar</th>\n",
       "      <th>Empuje de Orina</th>\n",
       "      <th>Dolores de Miccion</th>\n",
       "      <th>Ardor de Uretra</th>\n",
       "    </tr>\n",
       "  </thead>\n",
       "  <tbody>\n",
       "    <tr>\n",
       "      <th>3</th>\n",
       "      <td>36.0</td>\n",
       "      <td>0</td>\n",
       "      <td>0</td>\n",
       "      <td>1</td>\n",
       "      <td>1</td>\n",
       "      <td>1</td>\n",
       "    </tr>\n",
       "    <tr>\n",
       "      <th>42</th>\n",
       "      <td>37.5</td>\n",
       "      <td>0</td>\n",
       "      <td>0</td>\n",
       "      <td>1</td>\n",
       "      <td>1</td>\n",
       "      <td>1</td>\n",
       "    </tr>\n",
       "    <tr>\n",
       "      <th>80</th>\n",
       "      <td>40.2</td>\n",
       "      <td>0</td>\n",
       "      <td>0</td>\n",
       "      <td>0</td>\n",
       "      <td>0</td>\n",
       "      <td>0</td>\n",
       "    </tr>\n",
       "    <tr>\n",
       "      <th>94</th>\n",
       "      <td>40.7</td>\n",
       "      <td>0</td>\n",
       "      <td>0</td>\n",
       "      <td>0</td>\n",
       "      <td>0</td>\n",
       "      <td>0</td>\n",
       "    </tr>\n",
       "    <tr>\n",
       "      <th>58</th>\n",
       "      <td>37.9</td>\n",
       "      <td>0</td>\n",
       "      <td>0</td>\n",
       "      <td>1</td>\n",
       "      <td>1</td>\n",
       "      <td>1</td>\n",
       "    </tr>\n",
       "    <tr>\n",
       "      <th>...</th>\n",
       "      <td>...</td>\n",
       "      <td>...</td>\n",
       "      <td>...</td>\n",
       "      <td>...</td>\n",
       "      <td>...</td>\n",
       "      <td>...</td>\n",
       "    </tr>\n",
       "    <tr>\n",
       "      <th>63</th>\n",
       "      <td>38.3</td>\n",
       "      <td>0</td>\n",
       "      <td>1</td>\n",
       "      <td>1</td>\n",
       "      <td>0</td>\n",
       "      <td>1</td>\n",
       "    </tr>\n",
       "    <tr>\n",
       "      <th>70</th>\n",
       "      <td>40.0</td>\n",
       "      <td>1</td>\n",
       "      <td>1</td>\n",
       "      <td>1</td>\n",
       "      <td>1</td>\n",
       "      <td>1</td>\n",
       "    </tr>\n",
       "    <tr>\n",
       "      <th>81</th>\n",
       "      <td>40.2</td>\n",
       "      <td>1</td>\n",
       "      <td>1</td>\n",
       "      <td>0</td>\n",
       "      <td>1</td>\n",
       "      <td>0</td>\n",
       "    </tr>\n",
       "    <tr>\n",
       "      <th>11</th>\n",
       "      <td>36.6</td>\n",
       "      <td>0</td>\n",
       "      <td>1</td>\n",
       "      <td>0</td>\n",
       "      <td>0</td>\n",
       "      <td>0</td>\n",
       "    </tr>\n",
       "    <tr>\n",
       "      <th>95</th>\n",
       "      <td>40.7</td>\n",
       "      <td>1</td>\n",
       "      <td>1</td>\n",
       "      <td>0</td>\n",
       "      <td>1</td>\n",
       "      <td>0</td>\n",
       "    </tr>\n",
       "  </tbody>\n",
       "</table>\n",
       "<p>84 rows × 6 columns</p>\n",
       "</div>"
      ],
      "text/plain": [
       "    Temperatura  Nauseas  Dolor lumbar  Empuje de Orina  Dolores de Miccion  \\\n",
       "3          36.0        0             0                1                   1   \n",
       "42         37.5        0             0                1                   1   \n",
       "80         40.2        0             0                0                   0   \n",
       "94         40.7        0             0                0                   0   \n",
       "58         37.9        0             0                1                   1   \n",
       "..          ...      ...           ...              ...                 ...   \n",
       "63         38.3        0             1                1                   0   \n",
       "70         40.0        1             1                1                   1   \n",
       "81         40.2        1             1                0                   1   \n",
       "11         36.6        0             1                0                   0   \n",
       "95         40.7        1             1                0                   1   \n",
       "\n",
       "    Ardor de Uretra  \n",
       "3                 1  \n",
       "42                1  \n",
       "80                0  \n",
       "94                0  \n",
       "58                1  \n",
       "..              ...  \n",
       "63                1  \n",
       "70                1  \n",
       "81                0  \n",
       "11                0  \n",
       "95                0  \n",
       "\n",
       "[84 rows x 6 columns]"
      ]
     },
     "execution_count": 329,
     "metadata": {},
     "output_type": "execute_result"
    }
   ],
   "source": [
    "x_train"
   ]
  },
  {
   "cell_type": "markdown",
   "id": "815fd876",
   "metadata": {},
   "source": [
    "### Prediccion"
   ]
  },
  {
   "cell_type": "code",
   "execution_count": 330,
   "id": "b81c67b0",
   "metadata": {},
   "outputs": [],
   "source": [
    "from sklearn.linear_model import LogisticRegression"
   ]
  },
  {
   "cell_type": "code",
   "execution_count": 331,
   "id": "51361e68",
   "metadata": {},
   "outputs": [],
   "source": [
    "modelo = LogisticRegression(max_iter=1000)"
   ]
  },
  {
   "cell_type": "code",
   "execution_count": 332,
   "id": "489f6708",
   "metadata": {},
   "outputs": [
    {
     "data": {
      "text/plain": [
       "LogisticRegression(max_iter=1000)"
      ]
     },
     "execution_count": 332,
     "metadata": {},
     "output_type": "execute_result"
    }
   ],
   "source": [
    "modelo.fit(x_train,y_train)"
   ]
  },
  {
   "cell_type": "code",
   "execution_count": 333,
   "id": "55c9ca8d",
   "metadata": {},
   "outputs": [],
   "source": [
    "prediccion = modelo.predict(x_test)"
   ]
  },
  {
   "cell_type": "code",
   "execution_count": 334,
   "id": "d614a31a",
   "metadata": {},
   "outputs": [
    {
     "data": {
      "text/plain": [
       "array([0, 1, 0, 0, 1, 0, 0, 1, 0, 1, 0, 1, 1, 0, 0, 0, 1, 0, 1, 1, 1, 0,\n",
       "       0, 1, 1, 1, 0, 1, 1, 0, 0, 0, 0, 0, 0, 1], dtype=uint8)"
      ]
     },
     "execution_count": 334,
     "metadata": {},
     "output_type": "execute_result"
    }
   ],
   "source": [
    "prediccion"
   ]
  },
  {
   "cell_type": "markdown",
   "id": "0c64a410",
   "metadata": {},
   "source": [
    "###  Evaluacion del modelo"
   ]
  },
  {
   "cell_type": "code",
   "execution_count": 335,
   "id": "12c00053",
   "metadata": {},
   "outputs": [],
   "source": [
    "from sklearn.metrics import confusion_matrix\n",
    "from sklearn.metrics import classification_report"
   ]
  },
  {
   "cell_type": "code",
   "execution_count": 336,
   "id": "665a95a0",
   "metadata": {},
   "outputs": [
    {
     "data": {
      "text/plain": [
       "array([[20,  0],\n",
       "       [ 0, 16]], dtype=int64)"
      ]
     },
     "execution_count": 336,
     "metadata": {},
     "output_type": "execute_result"
    }
   ],
   "source": [
    "confusion_matrix(y_test,prediccion)"
   ]
  },
  {
   "cell_type": "code",
   "execution_count": 337,
   "id": "73b8a72a",
   "metadata": {},
   "outputs": [
    {
     "name": "stdout",
     "output_type": "stream",
     "text": [
      "              precision    recall  f1-score   support\n",
      "\n",
      "           0       1.00      1.00      1.00        20\n",
      "           1       1.00      1.00      1.00        16\n",
      "\n",
      "    accuracy                           1.00        36\n",
      "   macro avg       1.00      1.00      1.00        36\n",
      "weighted avg       1.00      1.00      1.00        36\n",
      "\n"
     ]
    }
   ],
   "source": [
    "print(classification_report(y_test,prediccion))"
   ]
  },
  {
   "cell_type": "markdown",
   "id": "c7850e90",
   "metadata": {},
   "source": [
    "## Modelo de Regresión Logística para Y=Inflamacion"
   ]
  },
  {
   "cell_type": "code",
   "execution_count": 338,
   "id": "303dc946",
   "metadata": {},
   "outputs": [],
   "source": [
    "x2= datos.drop(['Nefritis','Inflamacion'],axis=1) ## division de nuestros datos"
   ]
  },
  {
   "cell_type": "code",
   "execution_count": 339,
   "id": "2e44d678",
   "metadata": {},
   "outputs": [
    {
     "data": {
      "text/html": [
       "<div>\n",
       "<style scoped>\n",
       "    .dataframe tbody tr th:only-of-type {\n",
       "        vertical-align: middle;\n",
       "    }\n",
       "\n",
       "    .dataframe tbody tr th {\n",
       "        vertical-align: top;\n",
       "    }\n",
       "\n",
       "    .dataframe thead th {\n",
       "        text-align: right;\n",
       "    }\n",
       "</style>\n",
       "<table border=\"1\" class=\"dataframe\">\n",
       "  <thead>\n",
       "    <tr style=\"text-align: right;\">\n",
       "      <th></th>\n",
       "      <th>Temperatura</th>\n",
       "      <th>Nauseas</th>\n",
       "      <th>Dolor lumbar</th>\n",
       "      <th>Empuje de Orina</th>\n",
       "      <th>Dolores de Miccion</th>\n",
       "      <th>Ardor de Uretra</th>\n",
       "    </tr>\n",
       "  </thead>\n",
       "  <tbody>\n",
       "    <tr>\n",
       "      <th>0</th>\n",
       "      <td>35.5</td>\n",
       "      <td>0</td>\n",
       "      <td>1</td>\n",
       "      <td>0</td>\n",
       "      <td>0</td>\n",
       "      <td>0</td>\n",
       "    </tr>\n",
       "    <tr>\n",
       "      <th>1</th>\n",
       "      <td>35.9</td>\n",
       "      <td>0</td>\n",
       "      <td>0</td>\n",
       "      <td>1</td>\n",
       "      <td>1</td>\n",
       "      <td>1</td>\n",
       "    </tr>\n",
       "    <tr>\n",
       "      <th>2</th>\n",
       "      <td>35.9</td>\n",
       "      <td>0</td>\n",
       "      <td>1</td>\n",
       "      <td>0</td>\n",
       "      <td>0</td>\n",
       "      <td>0</td>\n",
       "    </tr>\n",
       "    <tr>\n",
       "      <th>3</th>\n",
       "      <td>36.0</td>\n",
       "      <td>0</td>\n",
       "      <td>0</td>\n",
       "      <td>1</td>\n",
       "      <td>1</td>\n",
       "      <td>1</td>\n",
       "    </tr>\n",
       "    <tr>\n",
       "      <th>4</th>\n",
       "      <td>36.0</td>\n",
       "      <td>0</td>\n",
       "      <td>1</td>\n",
       "      <td>0</td>\n",
       "      <td>0</td>\n",
       "      <td>0</td>\n",
       "    </tr>\n",
       "    <tr>\n",
       "      <th>...</th>\n",
       "      <td>...</td>\n",
       "      <td>...</td>\n",
       "      <td>...</td>\n",
       "      <td>...</td>\n",
       "      <td>...</td>\n",
       "      <td>...</td>\n",
       "    </tr>\n",
       "    <tr>\n",
       "      <th>115</th>\n",
       "      <td>41.4</td>\n",
       "      <td>0</td>\n",
       "      <td>1</td>\n",
       "      <td>1</td>\n",
       "      <td>0</td>\n",
       "      <td>1</td>\n",
       "    </tr>\n",
       "    <tr>\n",
       "      <th>116</th>\n",
       "      <td>41.5</td>\n",
       "      <td>0</td>\n",
       "      <td>0</td>\n",
       "      <td>0</td>\n",
       "      <td>0</td>\n",
       "      <td>0</td>\n",
       "    </tr>\n",
       "    <tr>\n",
       "      <th>117</th>\n",
       "      <td>41.5</td>\n",
       "      <td>1</td>\n",
       "      <td>1</td>\n",
       "      <td>0</td>\n",
       "      <td>1</td>\n",
       "      <td>0</td>\n",
       "    </tr>\n",
       "    <tr>\n",
       "      <th>118</th>\n",
       "      <td>41.5</td>\n",
       "      <td>0</td>\n",
       "      <td>1</td>\n",
       "      <td>1</td>\n",
       "      <td>0</td>\n",
       "      <td>1</td>\n",
       "    </tr>\n",
       "    <tr>\n",
       "      <th>119</th>\n",
       "      <td>41.5</td>\n",
       "      <td>0</td>\n",
       "      <td>1</td>\n",
       "      <td>1</td>\n",
       "      <td>0</td>\n",
       "      <td>1</td>\n",
       "    </tr>\n",
       "  </tbody>\n",
       "</table>\n",
       "<p>120 rows × 6 columns</p>\n",
       "</div>"
      ],
      "text/plain": [
       "     Temperatura  Nauseas  Dolor lumbar  Empuje de Orina  Dolores de Miccion  \\\n",
       "0           35.5        0             1                0                   0   \n",
       "1           35.9        0             0                1                   1   \n",
       "2           35.9        0             1                0                   0   \n",
       "3           36.0        0             0                1                   1   \n",
       "4           36.0        0             1                0                   0   \n",
       "..           ...      ...           ...              ...                 ...   \n",
       "115         41.4        0             1                1                   0   \n",
       "116         41.5        0             0                0                   0   \n",
       "117         41.5        1             1                0                   1   \n",
       "118         41.5        0             1                1                   0   \n",
       "119         41.5        0             1                1                   0   \n",
       "\n",
       "     Ardor de Uretra  \n",
       "0                  0  \n",
       "1                  1  \n",
       "2                  0  \n",
       "3                  1  \n",
       "4                  0  \n",
       "..               ...  \n",
       "115                1  \n",
       "116                0  \n",
       "117                0  \n",
       "118                1  \n",
       "119                1  \n",
       "\n",
       "[120 rows x 6 columns]"
      ]
     },
     "execution_count": 339,
     "metadata": {},
     "output_type": "execute_result"
    }
   ],
   "source": [
    "x2"
   ]
  },
  {
   "cell_type": "code",
   "execution_count": 340,
   "id": "8baa4c73",
   "metadata": {},
   "outputs": [
    {
     "data": {
      "text/html": [
       "<div>\n",
       "<style scoped>\n",
       "    .dataframe tbody tr th:only-of-type {\n",
       "        vertical-align: middle;\n",
       "    }\n",
       "\n",
       "    .dataframe tbody tr th {\n",
       "        vertical-align: top;\n",
       "    }\n",
       "\n",
       "    .dataframe thead th {\n",
       "        text-align: right;\n",
       "    }\n",
       "</style>\n",
       "<table border=\"1\" class=\"dataframe\">\n",
       "  <thead>\n",
       "    <tr style=\"text-align: right;\">\n",
       "      <th></th>\n",
       "      <th>Temperatura</th>\n",
       "      <th>Nauseas</th>\n",
       "      <th>Dolor lumbar</th>\n",
       "      <th>Empuje de Orina</th>\n",
       "      <th>Dolores de Miccion</th>\n",
       "      <th>Ardor de Uretra</th>\n",
       "    </tr>\n",
       "  </thead>\n",
       "  <tbody>\n",
       "    <tr>\n",
       "      <th>0</th>\n",
       "      <td>35.5</td>\n",
       "      <td>0</td>\n",
       "      <td>1</td>\n",
       "      <td>0</td>\n",
       "      <td>0</td>\n",
       "      <td>0</td>\n",
       "    </tr>\n",
       "    <tr>\n",
       "      <th>1</th>\n",
       "      <td>35.9</td>\n",
       "      <td>0</td>\n",
       "      <td>0</td>\n",
       "      <td>1</td>\n",
       "      <td>1</td>\n",
       "      <td>1</td>\n",
       "    </tr>\n",
       "    <tr>\n",
       "      <th>2</th>\n",
       "      <td>35.9</td>\n",
       "      <td>0</td>\n",
       "      <td>1</td>\n",
       "      <td>0</td>\n",
       "      <td>0</td>\n",
       "      <td>0</td>\n",
       "    </tr>\n",
       "    <tr>\n",
       "      <th>3</th>\n",
       "      <td>36.0</td>\n",
       "      <td>0</td>\n",
       "      <td>0</td>\n",
       "      <td>1</td>\n",
       "      <td>1</td>\n",
       "      <td>1</td>\n",
       "    </tr>\n",
       "    <tr>\n",
       "      <th>4</th>\n",
       "      <td>36.0</td>\n",
       "      <td>0</td>\n",
       "      <td>1</td>\n",
       "      <td>0</td>\n",
       "      <td>0</td>\n",
       "      <td>0</td>\n",
       "    </tr>\n",
       "  </tbody>\n",
       "</table>\n",
       "</div>"
      ],
      "text/plain": [
       "   Temperatura  Nauseas  Dolor lumbar  Empuje de Orina  Dolores de Miccion  \\\n",
       "0         35.5        0             1                0                   0   \n",
       "1         35.9        0             0                1                   1   \n",
       "2         35.9        0             1                0                   0   \n",
       "3         36.0        0             0                1                   1   \n",
       "4         36.0        0             1                0                   0   \n",
       "\n",
       "   Ardor de Uretra  \n",
       "0                0  \n",
       "1                1  \n",
       "2                0  \n",
       "3                1  \n",
       "4                0  "
      ]
     },
     "execution_count": 340,
     "metadata": {},
     "output_type": "execute_result"
    }
   ],
   "source": [
    "x2.head()"
   ]
  },
  {
   "cell_type": "code",
   "execution_count": 341,
   "id": "7e6c90ba",
   "metadata": {},
   "outputs": [
    {
     "name": "stdout",
     "output_type": "stream",
     "text": [
      "<class 'pandas.core.frame.DataFrame'>\n",
      "RangeIndex: 120 entries, 0 to 119\n",
      "Data columns (total 6 columns):\n",
      " #   Column              Non-Null Count  Dtype  \n",
      "---  ------              --------------  -----  \n",
      " 0   Temperatura         120 non-null    float64\n",
      " 1   Nauseas             120 non-null    uint8  \n",
      " 2   Dolor lumbar        120 non-null    uint8  \n",
      " 3   Empuje de Orina     120 non-null    uint8  \n",
      " 4   Dolores de Miccion  120 non-null    uint8  \n",
      " 5   Ardor de Uretra     120 non-null    uint8  \n",
      "dtypes: float64(1), uint8(5)\n",
      "memory usage: 1.6 KB\n"
     ]
    }
   ],
   "source": [
    "x2.info()"
   ]
  },
  {
   "cell_type": "code",
   "execution_count": 345,
   "id": "2d23217d",
   "metadata": {},
   "outputs": [],
   "source": [
    "y2=datos['Inflamacion']"
   ]
  },
  {
   "cell_type": "code",
   "execution_count": 346,
   "id": "fd95aeeb",
   "metadata": {},
   "outputs": [
    {
     "data": {
      "text/plain": [
       "0      0\n",
       "1      1\n",
       "2      0\n",
       "3      1\n",
       "4      0\n",
       "      ..\n",
       "115    0\n",
       "116    0\n",
       "117    0\n",
       "118    0\n",
       "119    0\n",
       "Name: Inflamacion, Length: 120, dtype: uint8"
      ]
     },
     "execution_count": 346,
     "metadata": {},
     "output_type": "execute_result"
    }
   ],
   "source": [
    "y2"
   ]
  },
  {
   "cell_type": "code",
   "execution_count": 347,
   "id": "349aabc7",
   "metadata": {},
   "outputs": [],
   "source": [
    "X_train2, X_test2, y_train2, y_test2 = train_test_split(x2, \n",
    "                                                    y2, \n",
    "                                                    test_size=0.30, \n",
    "                                                    random_state=60)"
   ]
  },
  {
   "cell_type": "code",
   "execution_count": 348,
   "id": "756ee35a",
   "metadata": {},
   "outputs": [
    {
     "data": {
      "text/html": [
       "<div>\n",
       "<style scoped>\n",
       "    .dataframe tbody tr th:only-of-type {\n",
       "        vertical-align: middle;\n",
       "    }\n",
       "\n",
       "    .dataframe tbody tr th {\n",
       "        vertical-align: top;\n",
       "    }\n",
       "\n",
       "    .dataframe thead th {\n",
       "        text-align: right;\n",
       "    }\n",
       "</style>\n",
       "<table border=\"1\" class=\"dataframe\">\n",
       "  <thead>\n",
       "    <tr style=\"text-align: right;\">\n",
       "      <th></th>\n",
       "      <th>Temperatura</th>\n",
       "      <th>Nauseas</th>\n",
       "      <th>Dolor lumbar</th>\n",
       "      <th>Empuje de Orina</th>\n",
       "      <th>Dolores de Miccion</th>\n",
       "      <th>Ardor de Uretra</th>\n",
       "    </tr>\n",
       "  </thead>\n",
       "  <tbody>\n",
       "    <tr>\n",
       "      <th>108</th>\n",
       "      <td>41.1</td>\n",
       "      <td>1</td>\n",
       "      <td>1</td>\n",
       "      <td>0</td>\n",
       "      <td>1</td>\n",
       "      <td>0</td>\n",
       "    </tr>\n",
       "    <tr>\n",
       "      <th>53</th>\n",
       "      <td>37.8</td>\n",
       "      <td>0</td>\n",
       "      <td>0</td>\n",
       "      <td>1</td>\n",
       "      <td>1</td>\n",
       "      <td>1</td>\n",
       "    </tr>\n",
       "    <tr>\n",
       "      <th>49</th>\n",
       "      <td>37.7</td>\n",
       "      <td>0</td>\n",
       "      <td>0</td>\n",
       "      <td>1</td>\n",
       "      <td>1</td>\n",
       "      <td>0</td>\n",
       "    </tr>\n",
       "    <tr>\n",
       "      <th>66</th>\n",
       "      <td>38.9</td>\n",
       "      <td>0</td>\n",
       "      <td>1</td>\n",
       "      <td>1</td>\n",
       "      <td>0</td>\n",
       "      <td>1</td>\n",
       "    </tr>\n",
       "    <tr>\n",
       "      <th>16</th>\n",
       "      <td>36.8</td>\n",
       "      <td>0</td>\n",
       "      <td>0</td>\n",
       "      <td>1</td>\n",
       "      <td>1</td>\n",
       "      <td>1</td>\n",
       "    </tr>\n",
       "    <tr>\n",
       "      <th>...</th>\n",
       "      <td>...</td>\n",
       "      <td>...</td>\n",
       "      <td>...</td>\n",
       "      <td>...</td>\n",
       "      <td>...</td>\n",
       "      <td>...</td>\n",
       "    </tr>\n",
       "    <tr>\n",
       "      <th>15</th>\n",
       "      <td>36.7</td>\n",
       "      <td>0</td>\n",
       "      <td>1</td>\n",
       "      <td>0</td>\n",
       "      <td>0</td>\n",
       "      <td>0</td>\n",
       "    </tr>\n",
       "    <tr>\n",
       "      <th>10</th>\n",
       "      <td>36.6</td>\n",
       "      <td>0</td>\n",
       "      <td>0</td>\n",
       "      <td>1</td>\n",
       "      <td>1</td>\n",
       "      <td>1</td>\n",
       "    </tr>\n",
       "    <tr>\n",
       "      <th>70</th>\n",
       "      <td>40.0</td>\n",
       "      <td>1</td>\n",
       "      <td>1</td>\n",
       "      <td>1</td>\n",
       "      <td>1</td>\n",
       "      <td>1</td>\n",
       "    </tr>\n",
       "    <tr>\n",
       "      <th>65</th>\n",
       "      <td>38.7</td>\n",
       "      <td>0</td>\n",
       "      <td>1</td>\n",
       "      <td>1</td>\n",
       "      <td>0</td>\n",
       "      <td>1</td>\n",
       "    </tr>\n",
       "    <tr>\n",
       "      <th>77</th>\n",
       "      <td>40.0</td>\n",
       "      <td>0</td>\n",
       "      <td>1</td>\n",
       "      <td>1</td>\n",
       "      <td>0</td>\n",
       "      <td>1</td>\n",
       "    </tr>\n",
       "  </tbody>\n",
       "</table>\n",
       "<p>84 rows × 6 columns</p>\n",
       "</div>"
      ],
      "text/plain": [
       "     Temperatura  Nauseas  Dolor lumbar  Empuje de Orina  Dolores de Miccion  \\\n",
       "108         41.1        1             1                0                   1   \n",
       "53          37.8        0             0                1                   1   \n",
       "49          37.7        0             0                1                   1   \n",
       "66          38.9        0             1                1                   0   \n",
       "16          36.8        0             0                1                   1   \n",
       "..           ...      ...           ...              ...                 ...   \n",
       "15          36.7        0             1                0                   0   \n",
       "10          36.6        0             0                1                   1   \n",
       "70          40.0        1             1                1                   1   \n",
       "65          38.7        0             1                1                   0   \n",
       "77          40.0        0             1                1                   0   \n",
       "\n",
       "     Ardor de Uretra  \n",
       "108                0  \n",
       "53                 1  \n",
       "49                 0  \n",
       "66                 1  \n",
       "16                 1  \n",
       "..               ...  \n",
       "15                 0  \n",
       "10                 1  \n",
       "70                 1  \n",
       "65                 1  \n",
       "77                 1  \n",
       "\n",
       "[84 rows x 6 columns]"
      ]
     },
     "execution_count": 348,
     "metadata": {},
     "output_type": "execute_result"
    }
   ],
   "source": [
    "X_train2"
   ]
  },
  {
   "cell_type": "code",
   "execution_count": 349,
   "id": "272df118",
   "metadata": {},
   "outputs": [
    {
     "data": {
      "text/html": [
       "<div>\n",
       "<style scoped>\n",
       "    .dataframe tbody tr th:only-of-type {\n",
       "        vertical-align: middle;\n",
       "    }\n",
       "\n",
       "    .dataframe tbody tr th {\n",
       "        vertical-align: top;\n",
       "    }\n",
       "\n",
       "    .dataframe thead th {\n",
       "        text-align: right;\n",
       "    }\n",
       "</style>\n",
       "<table border=\"1\" class=\"dataframe\">\n",
       "  <thead>\n",
       "    <tr style=\"text-align: right;\">\n",
       "      <th></th>\n",
       "      <th>Temperatura</th>\n",
       "      <th>Nauseas</th>\n",
       "      <th>Dolor lumbar</th>\n",
       "      <th>Empuje de Orina</th>\n",
       "      <th>Dolores de Miccion</th>\n",
       "      <th>Ardor de Uretra</th>\n",
       "    </tr>\n",
       "  </thead>\n",
       "  <tbody>\n",
       "    <tr>\n",
       "      <th>21</th>\n",
       "      <td>37.0</td>\n",
       "      <td>0</td>\n",
       "      <td>0</td>\n",
       "      <td>1</td>\n",
       "      <td>1</td>\n",
       "      <td>0</td>\n",
       "    </tr>\n",
       "    <tr>\n",
       "      <th>105</th>\n",
       "      <td>41.1</td>\n",
       "      <td>1</td>\n",
       "      <td>1</td>\n",
       "      <td>1</td>\n",
       "      <td>1</td>\n",
       "      <td>1</td>\n",
       "    </tr>\n",
       "    <tr>\n",
       "      <th>97</th>\n",
       "      <td>40.8</td>\n",
       "      <td>0</td>\n",
       "      <td>1</td>\n",
       "      <td>1</td>\n",
       "      <td>0</td>\n",
       "      <td>1</td>\n",
       "    </tr>\n",
       "    <tr>\n",
       "      <th>93</th>\n",
       "      <td>40.7</td>\n",
       "      <td>1</td>\n",
       "      <td>1</td>\n",
       "      <td>1</td>\n",
       "      <td>1</td>\n",
       "      <td>0</td>\n",
       "    </tr>\n",
       "    <tr>\n",
       "      <th>3</th>\n",
       "      <td>36.0</td>\n",
       "      <td>0</td>\n",
       "      <td>0</td>\n",
       "      <td>1</td>\n",
       "      <td>1</td>\n",
       "      <td>1</td>\n",
       "    </tr>\n",
       "    <tr>\n",
       "      <th>23</th>\n",
       "      <td>37.0</td>\n",
       "      <td>0</td>\n",
       "      <td>0</td>\n",
       "      <td>1</td>\n",
       "      <td>1</td>\n",
       "      <td>1</td>\n",
       "    </tr>\n",
       "    <tr>\n",
       "      <th>58</th>\n",
       "      <td>37.9</td>\n",
       "      <td>0</td>\n",
       "      <td>0</td>\n",
       "      <td>1</td>\n",
       "      <td>1</td>\n",
       "      <td>1</td>\n",
       "    </tr>\n",
       "    <tr>\n",
       "      <th>91</th>\n",
       "      <td>40.6</td>\n",
       "      <td>1</td>\n",
       "      <td>1</td>\n",
       "      <td>0</td>\n",
       "      <td>1</td>\n",
       "      <td>0</td>\n",
       "    </tr>\n",
       "    <tr>\n",
       "      <th>1</th>\n",
       "      <td>35.9</td>\n",
       "      <td>0</td>\n",
       "      <td>0</td>\n",
       "      <td>1</td>\n",
       "      <td>1</td>\n",
       "      <td>1</td>\n",
       "    </tr>\n",
       "    <tr>\n",
       "      <th>95</th>\n",
       "      <td>40.7</td>\n",
       "      <td>1</td>\n",
       "      <td>1</td>\n",
       "      <td>0</td>\n",
       "      <td>1</td>\n",
       "      <td>0</td>\n",
       "    </tr>\n",
       "    <tr>\n",
       "      <th>56</th>\n",
       "      <td>37.9</td>\n",
       "      <td>0</td>\n",
       "      <td>0</td>\n",
       "      <td>1</td>\n",
       "      <td>1</td>\n",
       "      <td>0</td>\n",
       "    </tr>\n",
       "    <tr>\n",
       "      <th>19</th>\n",
       "      <td>36.9</td>\n",
       "      <td>0</td>\n",
       "      <td>1</td>\n",
       "      <td>0</td>\n",
       "      <td>0</td>\n",
       "      <td>0</td>\n",
       "    </tr>\n",
       "    <tr>\n",
       "      <th>28</th>\n",
       "      <td>37.1</td>\n",
       "      <td>0</td>\n",
       "      <td>1</td>\n",
       "      <td>0</td>\n",
       "      <td>0</td>\n",
       "      <td>0</td>\n",
       "    </tr>\n",
       "    <tr>\n",
       "      <th>73</th>\n",
       "      <td>40.0</td>\n",
       "      <td>0</td>\n",
       "      <td>0</td>\n",
       "      <td>0</td>\n",
       "      <td>0</td>\n",
       "      <td>0</td>\n",
       "    </tr>\n",
       "    <tr>\n",
       "      <th>4</th>\n",
       "      <td>36.0</td>\n",
       "      <td>0</td>\n",
       "      <td>1</td>\n",
       "      <td>0</td>\n",
       "      <td>0</td>\n",
       "      <td>0</td>\n",
       "    </tr>\n",
       "    <tr>\n",
       "      <th>89</th>\n",
       "      <td>40.6</td>\n",
       "      <td>1</td>\n",
       "      <td>1</td>\n",
       "      <td>1</td>\n",
       "      <td>1</td>\n",
       "      <td>1</td>\n",
       "    </tr>\n",
       "    <tr>\n",
       "      <th>88</th>\n",
       "      <td>40.5</td>\n",
       "      <td>1</td>\n",
       "      <td>1</td>\n",
       "      <td>1</td>\n",
       "      <td>1</td>\n",
       "      <td>0</td>\n",
       "    </tr>\n",
       "    <tr>\n",
       "      <th>110</th>\n",
       "      <td>41.2</td>\n",
       "      <td>1</td>\n",
       "      <td>1</td>\n",
       "      <td>1</td>\n",
       "      <td>1</td>\n",
       "      <td>1</td>\n",
       "    </tr>\n",
       "    <tr>\n",
       "      <th>30</th>\n",
       "      <td>37.1</td>\n",
       "      <td>0</td>\n",
       "      <td>0</td>\n",
       "      <td>1</td>\n",
       "      <td>0</td>\n",
       "      <td>0</td>\n",
       "    </tr>\n",
       "    <tr>\n",
       "      <th>55</th>\n",
       "      <td>37.9</td>\n",
       "      <td>0</td>\n",
       "      <td>0</td>\n",
       "      <td>1</td>\n",
       "      <td>1</td>\n",
       "      <td>0</td>\n",
       "    </tr>\n",
       "    <tr>\n",
       "      <th>61</th>\n",
       "      <td>38.0</td>\n",
       "      <td>0</td>\n",
       "      <td>1</td>\n",
       "      <td>1</td>\n",
       "      <td>0</td>\n",
       "      <td>1</td>\n",
       "    </tr>\n",
       "    <tr>\n",
       "      <th>8</th>\n",
       "      <td>36.3</td>\n",
       "      <td>0</td>\n",
       "      <td>0</td>\n",
       "      <td>1</td>\n",
       "      <td>1</td>\n",
       "      <td>1</td>\n",
       "    </tr>\n",
       "    <tr>\n",
       "      <th>92</th>\n",
       "      <td>40.7</td>\n",
       "      <td>1</td>\n",
       "      <td>1</td>\n",
       "      <td>1</td>\n",
       "      <td>1</td>\n",
       "      <td>1</td>\n",
       "    </tr>\n",
       "    <tr>\n",
       "      <th>14</th>\n",
       "      <td>36.7</td>\n",
       "      <td>0</td>\n",
       "      <td>1</td>\n",
       "      <td>0</td>\n",
       "      <td>0</td>\n",
       "      <td>0</td>\n",
       "    </tr>\n",
       "    <tr>\n",
       "      <th>96</th>\n",
       "      <td>40.7</td>\n",
       "      <td>0</td>\n",
       "      <td>1</td>\n",
       "      <td>1</td>\n",
       "      <td>0</td>\n",
       "      <td>1</td>\n",
       "    </tr>\n",
       "    <tr>\n",
       "      <th>82</th>\n",
       "      <td>40.3</td>\n",
       "      <td>0</td>\n",
       "      <td>1</td>\n",
       "      <td>1</td>\n",
       "      <td>0</td>\n",
       "      <td>1</td>\n",
       "    </tr>\n",
       "    <tr>\n",
       "      <th>69</th>\n",
       "      <td>39.7</td>\n",
       "      <td>0</td>\n",
       "      <td>1</td>\n",
       "      <td>1</td>\n",
       "      <td>0</td>\n",
       "      <td>1</td>\n",
       "    </tr>\n",
       "    <tr>\n",
       "      <th>37</th>\n",
       "      <td>37.4</td>\n",
       "      <td>0</td>\n",
       "      <td>1</td>\n",
       "      <td>0</td>\n",
       "      <td>0</td>\n",
       "      <td>0</td>\n",
       "    </tr>\n",
       "    <tr>\n",
       "      <th>13</th>\n",
       "      <td>36.7</td>\n",
       "      <td>0</td>\n",
       "      <td>0</td>\n",
       "      <td>1</td>\n",
       "      <td>1</td>\n",
       "      <td>1</td>\n",
       "    </tr>\n",
       "    <tr>\n",
       "      <th>35</th>\n",
       "      <td>37.3</td>\n",
       "      <td>0</td>\n",
       "      <td>0</td>\n",
       "      <td>1</td>\n",
       "      <td>1</td>\n",
       "      <td>1</td>\n",
       "    </tr>\n",
       "    <tr>\n",
       "      <th>22</th>\n",
       "      <td>37.0</td>\n",
       "      <td>0</td>\n",
       "      <td>1</td>\n",
       "      <td>0</td>\n",
       "      <td>0</td>\n",
       "      <td>0</td>\n",
       "    </tr>\n",
       "    <tr>\n",
       "      <th>29</th>\n",
       "      <td>37.1</td>\n",
       "      <td>0</td>\n",
       "      <td>0</td>\n",
       "      <td>1</td>\n",
       "      <td>1</td>\n",
       "      <td>1</td>\n",
       "    </tr>\n",
       "    <tr>\n",
       "      <th>78</th>\n",
       "      <td>40.1</td>\n",
       "      <td>1</td>\n",
       "      <td>1</td>\n",
       "      <td>1</td>\n",
       "      <td>1</td>\n",
       "      <td>0</td>\n",
       "    </tr>\n",
       "    <tr>\n",
       "      <th>52</th>\n",
       "      <td>37.8</td>\n",
       "      <td>0</td>\n",
       "      <td>1</td>\n",
       "      <td>0</td>\n",
       "      <td>0</td>\n",
       "      <td>0</td>\n",
       "    </tr>\n",
       "    <tr>\n",
       "      <th>25</th>\n",
       "      <td>37.0</td>\n",
       "      <td>0</td>\n",
       "      <td>0</td>\n",
       "      <td>1</td>\n",
       "      <td>1</td>\n",
       "      <td>1</td>\n",
       "    </tr>\n",
       "    <tr>\n",
       "      <th>62</th>\n",
       "      <td>38.1</td>\n",
       "      <td>0</td>\n",
       "      <td>1</td>\n",
       "      <td>1</td>\n",
       "      <td>0</td>\n",
       "      <td>1</td>\n",
       "    </tr>\n",
       "  </tbody>\n",
       "</table>\n",
       "</div>"
      ],
      "text/plain": [
       "     Temperatura  Nauseas  Dolor lumbar  Empuje de Orina  Dolores de Miccion  \\\n",
       "21          37.0        0             0                1                   1   \n",
       "105         41.1        1             1                1                   1   \n",
       "97          40.8        0             1                1                   0   \n",
       "93          40.7        1             1                1                   1   \n",
       "3           36.0        0             0                1                   1   \n",
       "23          37.0        0             0                1                   1   \n",
       "58          37.9        0             0                1                   1   \n",
       "91          40.6        1             1                0                   1   \n",
       "1           35.9        0             0                1                   1   \n",
       "95          40.7        1             1                0                   1   \n",
       "56          37.9        0             0                1                   1   \n",
       "19          36.9        0             1                0                   0   \n",
       "28          37.1        0             1                0                   0   \n",
       "73          40.0        0             0                0                   0   \n",
       "4           36.0        0             1                0                   0   \n",
       "89          40.6        1             1                1                   1   \n",
       "88          40.5        1             1                1                   1   \n",
       "110         41.2        1             1                1                   1   \n",
       "30          37.1        0             0                1                   0   \n",
       "55          37.9        0             0                1                   1   \n",
       "61          38.0        0             1                1                   0   \n",
       "8           36.3        0             0                1                   1   \n",
       "92          40.7        1             1                1                   1   \n",
       "14          36.7        0             1                0                   0   \n",
       "96          40.7        0             1                1                   0   \n",
       "82          40.3        0             1                1                   0   \n",
       "69          39.7        0             1                1                   0   \n",
       "37          37.4        0             1                0                   0   \n",
       "13          36.7        0             0                1                   1   \n",
       "35          37.3        0             0                1                   1   \n",
       "22          37.0        0             1                0                   0   \n",
       "29          37.1        0             0                1                   1   \n",
       "78          40.1        1             1                1                   1   \n",
       "52          37.8        0             1                0                   0   \n",
       "25          37.0        0             0                1                   1   \n",
       "62          38.1        0             1                1                   0   \n",
       "\n",
       "     Ardor de Uretra  \n",
       "21                 0  \n",
       "105                1  \n",
       "97                 1  \n",
       "93                 0  \n",
       "3                  1  \n",
       "23                 1  \n",
       "58                 1  \n",
       "91                 0  \n",
       "1                  1  \n",
       "95                 0  \n",
       "56                 0  \n",
       "19                 0  \n",
       "28                 0  \n",
       "73                 0  \n",
       "4                  0  \n",
       "89                 1  \n",
       "88                 0  \n",
       "110                1  \n",
       "30                 0  \n",
       "55                 0  \n",
       "61                 1  \n",
       "8                  1  \n",
       "92                 1  \n",
       "14                 0  \n",
       "96                 1  \n",
       "82                 1  \n",
       "69                 1  \n",
       "37                 0  \n",
       "13                 1  \n",
       "35                 1  \n",
       "22                 0  \n",
       "29                 1  \n",
       "78                 0  \n",
       "52                 0  \n",
       "25                 1  \n",
       "62                 1  "
      ]
     },
     "execution_count": 349,
     "metadata": {},
     "output_type": "execute_result"
    }
   ],
   "source": [
    "X_test2"
   ]
  },
  {
   "cell_type": "markdown",
   "id": "7fd424e4",
   "metadata": {},
   "source": [
    "## Entrenamiento "
   ]
  },
  {
   "cell_type": "code",
   "execution_count": 350,
   "id": "09f6ff3c",
   "metadata": {},
   "outputs": [],
   "source": [
    "modelo2=LogisticRegression(max_iter=1000)"
   ]
  },
  {
   "cell_type": "code",
   "execution_count": 351,
   "id": "89c2500f",
   "metadata": {},
   "outputs": [
    {
     "data": {
      "text/plain": [
       "LogisticRegression(max_iter=1000)"
      ]
     },
     "execution_count": 351,
     "metadata": {},
     "output_type": "execute_result"
    }
   ],
   "source": [
    "modelo2.fit(X_train2,y_train2)"
   ]
  },
  {
   "cell_type": "markdown",
   "id": "8e436ba0",
   "metadata": {},
   "source": [
    "## Prediccion"
   ]
  },
  {
   "cell_type": "code",
   "execution_count": 352,
   "id": "e8ba0411",
   "metadata": {},
   "outputs": [],
   "source": [
    "prediccion2 = modelo2.predict(X_test2)"
   ]
  },
  {
   "cell_type": "code",
   "execution_count": 353,
   "id": "f9912585",
   "metadata": {},
   "outputs": [
    {
     "data": {
      "text/plain": [
       "array([1, 1, 0, 1, 1, 1, 1, 0, 1, 0, 1, 0, 0, 0, 0, 1, 1, 1, 1, 1, 0, 1,\n",
       "       1, 0, 0, 0, 0, 0, 1, 1, 0, 1, 1, 0, 1, 0], dtype=uint8)"
      ]
     },
     "execution_count": 353,
     "metadata": {},
     "output_type": "execute_result"
    }
   ],
   "source": [
    "prediccion2"
   ]
  },
  {
   "cell_type": "markdown",
   "id": "b320a6e8",
   "metadata": {},
   "source": [
    "##  Evaluacion del modelo"
   ]
  },
  {
   "cell_type": "code",
   "execution_count": 354,
   "id": "8bf079fc",
   "metadata": {},
   "outputs": [
    {
     "data": {
      "text/plain": [
       "array([[16,  0],\n",
       "       [ 0, 20]], dtype=int64)"
      ]
     },
     "execution_count": 354,
     "metadata": {},
     "output_type": "execute_result"
    }
   ],
   "source": [
    "confusion_matrix(y_test2,prediccion2)"
   ]
  },
  {
   "cell_type": "code",
   "execution_count": 355,
   "id": "214cf976",
   "metadata": {},
   "outputs": [
    {
     "name": "stdout",
     "output_type": "stream",
     "text": [
      "              precision    recall  f1-score   support\n",
      "\n",
      "           0       1.00      1.00      1.00        16\n",
      "           1       1.00      1.00      1.00        20\n",
      "\n",
      "    accuracy                           1.00        36\n",
      "   macro avg       1.00      1.00      1.00        36\n",
      "weighted avg       1.00      1.00      1.00        36\n",
      "\n"
     ]
    }
   ],
   "source": [
    "print(classification_report(y_test2,prediccion2))"
   ]
  },
  {
   "cell_type": "markdown",
   "id": "c8beaa72",
   "metadata": {},
   "source": [
    "### Modelo KNN (K vecinos más cercanos) para la Nefritis"
   ]
  },
  {
   "cell_type": "code",
   "execution_count": 356,
   "id": "d5947adf",
   "metadata": {},
   "outputs": [],
   "source": [
    "X_train3, X_test3, y_train3, y_test3 = train_test_split(x,y,\n",
    "                                                    test_size=0.30,\n",
    "                                                    random_state=100)"
   ]
  },
  {
   "cell_type": "code",
   "execution_count": 357,
   "id": "9c446cc8",
   "metadata": {},
   "outputs": [],
   "source": [
    "from sklearn.neighbors import KNeighborsClassifier"
   ]
  },
  {
   "cell_type": "code",
   "execution_count": 358,
   "id": "4390483c",
   "metadata": {},
   "outputs": [],
   "source": [
    "knn = KNeighborsClassifier(n_neighbors=1)"
   ]
  },
  {
   "cell_type": "code",
   "execution_count": 359,
   "id": "c5032d1f",
   "metadata": {},
   "outputs": [
    {
     "data": {
      "text/plain": [
       "KNeighborsClassifier(n_neighbors=1)"
      ]
     },
     "execution_count": 359,
     "metadata": {},
     "output_type": "execute_result"
    }
   ],
   "source": [
    "knn.fit(X_train3,y_train3)"
   ]
  },
  {
   "cell_type": "code",
   "execution_count": 360,
   "id": "24c1e921",
   "metadata": {},
   "outputs": [],
   "source": [
    "prediccion3 = knn.predict(X_test3)"
   ]
  },
  {
   "cell_type": "markdown",
   "id": "e54d24ec",
   "metadata": {},
   "source": [
    "## Evaluaciones"
   ]
  },
  {
   "cell_type": "code",
   "execution_count": 361,
   "id": "fa4189ea",
   "metadata": {},
   "outputs": [
    {
     "name": "stdout",
     "output_type": "stream",
     "text": [
      "[[24  0]\n",
      " [ 0 12]]\n"
     ]
    }
   ],
   "source": [
    "print(confusion_matrix(y_test3,prediccion3))"
   ]
  },
  {
   "cell_type": "code",
   "execution_count": 362,
   "id": "7bcd34e3",
   "metadata": {},
   "outputs": [
    {
     "name": "stdout",
     "output_type": "stream",
     "text": [
      "              precision    recall  f1-score   support\n",
      "\n",
      "           0       0.65      0.54      0.59        24\n",
      "           1       0.31      0.42      0.36        12\n",
      "\n",
      "    accuracy                           0.50        36\n",
      "   macro avg       0.48      0.48      0.47        36\n",
      "weighted avg       0.54      0.50      0.51        36\n",
      "\n"
     ]
    }
   ],
   "source": [
    "print(classification_report(y_test3,prediccion))"
   ]
  },
  {
   "cell_type": "markdown",
   "id": "45c407d0",
   "metadata": {},
   "source": [
    "## Valor de K "
   ]
  },
  {
   "cell_type": "code",
   "execution_count": 363,
   "id": "7890255e",
   "metadata": {},
   "outputs": [],
   "source": [
    "tasa_error = []\n",
    "\n",
    "# Tomará algún tiempo\n",
    "for i in range(1,41):\n",
    "    knn = KNeighborsClassifier(n_neighbors=i)\n",
    "    knn.fit(X_train3,y_train3)\n",
    "    pred_i = knn.predict(X_test3)\n",
    "    tasa_error.append(np.mean(pred_i != y_test3))"
   ]
  },
  {
   "cell_type": "code",
   "execution_count": 364,
   "id": "4a3aa778",
   "metadata": {},
   "outputs": [
    {
     "data": {
      "text/plain": [
       "Text(0, 0.5, 'Tasa de Error')"
      ]
     },
     "execution_count": 364,
     "metadata": {},
     "output_type": "execute_result"
    },
    {
     "data": {
      "image/png": "[encoded data removed]",
      "text/plain": [
       "<Figure size 2500x1500 with 1 Axes>"
      ]
     },
     "metadata": {
      "needs_background": "light"
     },
     "output_type": "display_data"
    }
   ],
   "source": [
    "plt.figure(figsize=(10,6),dpi=250)\n",
    "plt.plot(range(1,41),tasa_error,color='black', linestyle='dashed', marker='o',\n",
    "         markerfacecolor='yellow', markersize=10)\n",
    "plt.title('Tasa de Error vs. Valor de K')\n",
    "plt.xlabel('K')\n",
    "plt.ylabel('Tasa de Error')"
   ]
  },
  {
   "cell_type": "code",
   "execution_count": 365,
   "id": "814690d2",
   "metadata": {},
   "outputs": [],
   "source": [
    "## Para K=20"
   ]
  },
  {
   "cell_type": "code",
   "execution_count": 366,
   "id": "fd77868c",
   "metadata": {},
   "outputs": [
    {
     "name": "stdout",
     "output_type": "stream",
     "text": [
      "CON K=40\n",
      "\n",
      "\n",
      "[[20  4]\n",
      " [ 1 11]]\n",
      "\n",
      "\n",
      "              precision    recall  f1-score   support\n",
      "\n",
      "           0       0.95      0.83      0.89        24\n",
      "           1       0.73      0.92      0.81        12\n",
      "\n",
      "    accuracy                           0.86        36\n",
      "   macro avg       0.84      0.88      0.85        36\n",
      "weighted avg       0.88      0.86      0.86        36\n",
      "\n"
     ]
    }
   ],
   "source": [
    "knn = KNeighborsClassifier(n_neighbors=20)\n",
    "\n",
    "knn.fit(X_train3,y_train3)\n",
    "pred = knn.predict(X_test3)\n",
    "\n",
    "print('CON K=40')\n",
    "print('\\n')\n",
    "print(confusion_matrix(y_test3,pred))\n",
    "print('\\n')\n",
    "print(classification_report(y_test3,pred))"
   ]
  },
  {
   "cell_type": "code",
   "execution_count": 367,
   "id": "1d455467",
   "metadata": {},
   "outputs": [
    {
     "name": "stderr",
     "output_type": "stream",
     "text": [
      "C:\\Users\\Usuario\\anaconda3\\lib\\site-packages\\sklearn\\utils\\deprecation.py:87: FutureWarning: Function plot_confusion_matrix is deprecated; Function `plot_confusion_matrix` is deprecated in 1.0 and will be removed in 1.2. Use one of the class methods: ConfusionMatrixDisplay.from_predictions or ConfusionMatrixDisplay.from_estimator.\n",
      "  warnings.warn(msg, category=FutureWarning)\n"
     ]
    },
    {
     "data": {
      "text/plain": [
       "<sklearn.metrics._plot.confusion_matrix.ConfusionMatrixDisplay at 0x21461e9bc70>"
      ]
     },
     "execution_count": 367,
     "metadata": {},
     "output_type": "execute_result"
    },
    {
     "data": {
      "image/png": "[encoded data removed]",
      "text/plain": [
       "<Figure size 432x288 with 2 Axes>"
      ]
     },
     "metadata": {
      "needs_background": "light"
     },
     "output_type": "display_data"
    }
   ],
   "source": [
    "from sklearn.metrics import plot_confusion_matrix\n",
    "plot_confusion_matrix(knn,X_test3,y_test3)"
   ]
  },
  {
   "cell_type": "markdown",
   "id": "9f9b9feb",
   "metadata": {},
   "source": [
    "## ROC Y RECAIL "
   ]
  },
  {
   "cell_type": "code",
   "execution_count": 368,
   "id": "ebcc57bc",
   "metadata": {},
   "outputs": [],
   "source": [
    "from sklearn.metrics import plot_roc_curve"
   ]
  },
  {
   "cell_type": "code",
   "execution_count": 369,
   "id": "3fdaf8ef",
   "metadata": {},
   "outputs": [
    {
     "name": "stderr",
     "output_type": "stream",
     "text": [
      "C:\\Users\\Usuario\\anaconda3\\lib\\site-packages\\sklearn\\utils\\deprecation.py:87: FutureWarning: Function plot_roc_curve is deprecated; Function :func:`plot_roc_curve` is deprecated in 1.0 and will be removed in 1.2. Use one of the class methods: :meth:`sklearn.metric.RocCurveDisplay.from_predictions` or :meth:`sklearn.metric.RocCurveDisplay.from_estimator`.\n",
      "  warnings.warn(msg, category=FutureWarning)\n"
     ]
    },
    {
     "data": {
      "text/plain": [
       "<sklearn.metrics._plot.roc_curve.RocCurveDisplay at 0x21462101e80>"
      ]
     },
     "execution_count": 369,
     "metadata": {},
     "output_type": "execute_result"
    },
    {
     "data": {
      "image/png": "[encoded data removed]",
      "text/plain": [
       "<Figure size 432x288 with 1 Axes>"
      ]
     },
     "metadata": {
      "needs_background": "light"
     },
     "output_type": "display_data"
    }
   ],
   "source": [
    "plot_roc_curve(knn,X_test3,y_test3)"
   ]
  },
  {
   "cell_type": "code",
   "execution_count": 370,
   "id": "07eaa26c",
   "metadata": {},
   "outputs": [
    {
     "name": "stderr",
     "output_type": "stream",
     "text": [
      "C:\\Users\\Usuario\\anaconda3\\lib\\site-packages\\sklearn\\utils\\deprecation.py:87: FutureWarning: Function plot_precision_recall_curve is deprecated; Function `plot_precision_recall_curve` is deprecated in 1.0 and will be removed in 1.2. Use one of the class methods: PrecisionRecallDisplay.from_predictions or PrecisionRecallDisplay.from_estimator.\n",
      "  warnings.warn(msg, category=FutureWarning)\n"
     ]
    },
    {
     "data": {
      "text/plain": [
       "<sklearn.metrics._plot.precision_recall_curve.PrecisionRecallDisplay at 0x21461e09520>"
      ]
     },
     "execution_count": 370,
     "metadata": {},
     "output_type": "execute_result"
    },
    {
     "data": {
      "image/png": "[encoded data removed]",
      "text/plain": [
       "<Figure size 432x288 with 1 Axes>"
      ]
     },
     "metadata": {
      "needs_background": "light"
     },
     "output_type": "display_data"
    }
   ],
   "source": [
    "from sklearn.metrics import plot_precision_recall_curve\n",
    "plot_precision_recall_curve(knn,X_test3,y_test3)"
   ]
  },
  {
   "cell_type": "markdown",
   "id": "56f4f12a",
   "metadata": {},
   "source": [
    "## Modelo KNN para la Inflacion"
   ]
  },
  {
   "cell_type": "code",
   "execution_count": 371,
   "id": "f6510bac",
   "metadata": {},
   "outputs": [],
   "source": [
    "\n",
    "X_train4, X_test4, y_train4, y_test4 = train_test_split(x2,y2,\n",
    "                                                    test_size=0.30,\n",
    "                                                    random_state=100)"
   ]
  },
  {
   "cell_type": "code",
   "execution_count": 372,
   "id": "73b08d94",
   "metadata": {},
   "outputs": [],
   "source": [
    "knn = KNeighborsClassifier(n_neighbors=1)"
   ]
  },
  {
   "cell_type": "code",
   "execution_count": 373,
   "id": "c862f2af",
   "metadata": {},
   "outputs": [
    {
     "data": {
      "text/plain": [
       "KNeighborsClassifier(n_neighbors=1)"
      ]
     },
     "execution_count": 373,
     "metadata": {},
     "output_type": "execute_result"
    }
   ],
   "source": [
    "knn.fit(X_train4,y_train4)"
   ]
  },
  {
   "cell_type": "markdown",
   "id": "0cabc48b",
   "metadata": {},
   "source": [
    "### Prediccion "
   ]
  },
  {
   "cell_type": "code",
   "execution_count": 374,
   "id": "45039981",
   "metadata": {},
   "outputs": [
    {
     "data": {
      "text/plain": [
       "array([0, 1, 0, 1, 1, 1, 0, 0, 1, 1, 0, 0, 0, 1, 0, 0, 1, 1, 1, 1, 0, 0,\n",
       "       0, 1, 1, 0, 0, 0, 1, 0, 0, 1, 1, 0, 1, 1], dtype=uint8)"
      ]
     },
     "execution_count": 374,
     "metadata": {},
     "output_type": "execute_result"
    }
   ],
   "source": [
    "prediccion4 = knn.predict(X_test4)\n",
    "prediccion4"
   ]
  },
  {
   "cell_type": "markdown",
   "id": "b6926545",
   "metadata": {},
   "source": [
    "## Evaluacion del modelo"
   ]
  },
  {
   "cell_type": "code",
   "execution_count": 375,
   "id": "2ac8ba43",
   "metadata": {},
   "outputs": [
    {
     "name": "stdout",
     "output_type": "stream",
     "text": [
      "[[18  0]\n",
      " [ 0 18]]\n"
     ]
    }
   ],
   "source": [
    "print(confusion_matrix(y_test4,prediccion4))"
   ]
  },
  {
   "cell_type": "code",
   "execution_count": 376,
   "id": "ab5f8c19",
   "metadata": {},
   "outputs": [
    {
     "name": "stdout",
     "output_type": "stream",
     "text": [
      "              precision    recall  f1-score   support\n",
      "\n",
      "           0       1.00      1.00      1.00        18\n",
      "           1       1.00      1.00      1.00        18\n",
      "\n",
      "    accuracy                           1.00        36\n",
      "   macro avg       1.00      1.00      1.00        36\n",
      "weighted avg       1.00      1.00      1.00        36\n",
      "\n"
     ]
    }
   ],
   "source": [
    "print(classification_report(y_test4,prediccion4))"
   ]
  },
  {
   "cell_type": "markdown",
   "id": "aeb3f423",
   "metadata": {},
   "source": [
    "## Valor de K"
   ]
  },
  {
   "cell_type": "code",
   "execution_count": 377,
   "id": "a504ac05",
   "metadata": {},
   "outputs": [],
   "source": [
    "tasa_error = []\n",
    "\n",
    "# Tomará algún tiempo\n",
    "for i in range(1,41):\n",
    "    knn = KNeighborsClassifier(n_neighbors=i)\n",
    "    knn.fit(X_train4,y_train4)\n",
    "    pred_i = knn.predict(X_test4)\n",
    "    tasa_error.append(np.mean(pred_i != y_test4))"
   ]
  },
  {
   "cell_type": "code",
   "execution_count": 378,
   "id": "e3897c7a",
   "metadata": {},
   "outputs": [
    {
     "data": {
      "text/plain": [
       "Text(0, 0.5, 'Tasa de Error')"
      ]
     },
     "execution_count": 378,
     "metadata": {},
     "output_type": "execute_result"
    },
    {
     "data": {
      "image/png": "[encoded data removed]",
      "text/plain": [
       "<Figure size 2500x1500 with 1 Axes>"
      ]
     },
     "metadata": {
      "needs_background": "light"
     },
     "output_type": "display_data"
    }
   ],
   "source": [
    "plt.figure(figsize=(10,6),dpi=250)\n",
    "plt.plot(range(1,41),tasa_error,color='black', linestyle='dashed', marker='o',\n",
    "         markerfacecolor='yellow', markersize=10)\n",
    "plt.title('Tasa de Error vs. Valor de K')\n",
    "plt.xlabel('K')\n",
    "plt.ylabel('Tasa de Error')"
   ]
  },
  {
   "cell_type": "markdown",
   "id": "9b613b43",
   "metadata": {},
   "source": [
    "## Para K=30"
   ]
  },
  {
   "cell_type": "code",
   "execution_count": 379,
   "id": "8ae74f94",
   "metadata": {},
   "outputs": [
    {
     "name": "stdout",
     "output_type": "stream",
     "text": [
      "\n",
      "\n",
      "[[18  0]\n",
      " [ 0 18]]\n",
      "\n",
      "\n",
      "              precision    recall  f1-score   support\n",
      "\n",
      "           0       1.00      1.00      1.00        18\n",
      "           1       1.00      1.00      1.00        18\n",
      "\n",
      "    accuracy                           1.00        36\n",
      "   macro avg       1.00      1.00      1.00        36\n",
      "weighted avg       1.00      1.00      1.00        36\n",
      "\n"
     ]
    }
   ],
   "source": [
    "# AHORA CON K=30\n",
    "knn = KNeighborsClassifier(n_neighbors=30)\n",
    "\n",
    "knn.fit(X_train4,y_train4)\n",
    "pred = knn.predict(X_test4)\n",
    "\n",
    "\n",
    "print('\\n')\n",
    "print(confusion_matrix(y_test4,prediccion4))\n",
    "print('\\n')\n",
    "print(classification_report(y_test4,prediccion4))"
   ]
  },
  {
   "cell_type": "code",
   "execution_count": 380,
   "id": "4d67177b",
   "metadata": {},
   "outputs": [
    {
     "name": "stderr",
     "output_type": "stream",
     "text": [
      "C:\\Users\\Usuario\\anaconda3\\lib\\site-packages\\sklearn\\utils\\deprecation.py:87: FutureWarning: Function plot_confusion_matrix is deprecated; Function `plot_confusion_matrix` is deprecated in 1.0 and will be removed in 1.2. Use one of the class methods: ConfusionMatrixDisplay.from_predictions or ConfusionMatrixDisplay.from_estimator.\n",
      "  warnings.warn(msg, category=FutureWarning)\n"
     ]
    },
    {
     "data": {
      "text/plain": [
       "<sklearn.metrics._plot.confusion_matrix.ConfusionMatrixDisplay at 0x21461f22d60>"
      ]
     },
     "execution_count": 380,
     "metadata": {},
     "output_type": "execute_result"
    },
    {
     "data": {
      "image/png": "[encoded data removed]",
      "text/plain": [
       "<Figure size 432x288 with 2 Axes>"
      ]
     },
     "metadata": {
      "needs_background": "light"
     },
     "output_type": "display_data"
    }
   ],
   "source": [
    "plot_confusion_matrix(knn,X_test4,y_test4)"
   ]
  },
  {
   "cell_type": "markdown",
   "id": "932fd545",
   "metadata": {},
   "source": [
    "## ROC Y RECALL "
   ]
  },
  {
   "cell_type": "code",
   "execution_count": 381,
   "id": "660eacfc",
   "metadata": {},
   "outputs": [
    {
     "name": "stderr",
     "output_type": "stream",
     "text": [
      "C:\\Users\\Usuario\\anaconda3\\lib\\site-packages\\sklearn\\utils\\deprecation.py:87: FutureWarning: Function plot_roc_curve is deprecated; Function :func:`plot_roc_curve` is deprecated in 1.0 and will be removed in 1.2. Use one of the class methods: :meth:`sklearn.metric.RocCurveDisplay.from_predictions` or :meth:`sklearn.metric.RocCurveDisplay.from_estimator`.\n",
      "  warnings.warn(msg, category=FutureWarning)\n"
     ]
    },
    {
     "data": {
      "text/plain": [
       "<sklearn.metrics._plot.roc_curve.RocCurveDisplay at 0x21462adc0d0>"
      ]
     },
     "execution_count": 381,
     "metadata": {},
     "output_type": "execute_result"
    },
    {
     "data": {
      "image/png": "[encoded data removed]",
      "text/plain": [
       "<Figure size 432x288 with 1 Axes>"
      ]
     },
     "metadata": {
      "needs_background": "light"
     },
     "output_type": "display_data"
    }
   ],
   "source": [
    "plot_roc_curve(knn,X_test4,y_test4)"
   ]
  },
  {
   "cell_type": "code",
   "execution_count": 382,
   "id": "563f04b5",
   "metadata": {},
   "outputs": [
    {
     "name": "stderr",
     "output_type": "stream",
     "text": [
      "C:\\Users\\Usuario\\anaconda3\\lib\\site-packages\\sklearn\\utils\\deprecation.py:87: FutureWarning: Function plot_precision_recall_curve is deprecated; Function `plot_precision_recall_curve` is deprecated in 1.0 and will be removed in 1.2. Use one of the class methods: PrecisionRecallDisplay.from_predictions or PrecisionRecallDisplay.from_estimator.\n",
      "  warnings.warn(msg, category=FutureWarning)\n"
     ]
    },
    {
     "data": {
      "text/plain": [
       "<sklearn.metrics._plot.precision_recall_curve.PrecisionRecallDisplay at 0x214635f8f70>"
      ]
     },
     "execution_count": 382,
     "metadata": {},
     "output_type": "execute_result"
    },
    {
     "data": {
      "image/png": "[encoded data removed]",
      "text/plain": [
       "<Figure size 432x288 with 1 Axes>"
      ]
     },
     "metadata": {
      "needs_background": "light"
     },
     "output_type": "display_data"
    }
   ],
   "source": [
    "plot_precision_recall_curve(knn,X_test4,y_test4)"
   ]
  },
  {
   "cell_type": "markdown",
   "id": "6e81d7f6",
   "metadata": {},
   "source": [
    "## CONCLUSIONES"
   ]
  },
  {
   "cell_type": "markdown",
   "id": "a14ab876",
   "metadata": {},
   "source": [
    "### Para los dos modelos de regresion logistica que hemos implementados se puede decir que "
   ]
  },
  {
   "cell_type": "markdown",
   "id": "7a0938f3",
   "metadata": {},
   "source": [
    "### Para el primer modelo de regresion logistica para la Nefritis, tiene grado de perfeccion , porque la exactitud es 1 "
   ]
  },
  {
   "cell_type": "markdown",
   "id": "ddc0a9f2",
   "metadata": {},
   "source": [
    "### Para el segundo modelo para la Inflacion, tiene grado de perfeccion , porque la exactitud también es 1 al igual que el primer modelo "
   ]
  },
  {
   "cell_type": "markdown",
   "id": "0d8dc19d",
   "metadata": {},
   "source": [
    "### De esto podemos decir que ambos modelos son eficientes"
   ]
  },
  {
   "cell_type": "markdown",
   "id": "a8fe76de",
   "metadata": {},
   "source": [
    "### Asimismo para el modelo KNN resulta también ser perfecto, debido a que la tasa de error es de 0 "
   ]
  },
  {
   "cell_type": "code",
   "execution_count": null,
   "id": "99feaa23",
   "metadata": {},
   "outputs": [],
   "source": []
  }
 ],
 "metadata": {
  "kernelspec": {
   "display_name": "Python 3 (ipykernel)",
   "language": "python",
   "name": "python3"
  },
  "language_info": {
   "codemirror_mode": {
    "name": "ipython",
    "version": 3
   },
   "file_extension": ".py",
   "mimetype": "text/x-python",
   "name": "python",
   "nbconvert_exporter": "python",
   "pygments_lexer": "ipython3",
   "version": "3.9.12"
  }
 },
 "nbformat": 4,
 "nbformat_minor": 5
}
